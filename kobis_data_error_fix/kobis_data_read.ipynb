{
 "cells": [
  {
   "cell_type": "markdown",
   "id": "948eaf24",
   "metadata": {},
   "source": [
    "# xls 파일 pandas로 읽기"
   ]
  },
  {
   "cell_type": "code",
   "execution_count": 1,
   "id": "aab5fda3",
   "metadata": {},
   "outputs": [
    {
     "name": "stderr",
     "output_type": "stream",
     "text": [
      "100%|█████████████████████████████████████████████| 4/4 [00:00<00:00,  6.25it/s]\n"
     ]
    }
   ],
   "source": [
    "import pandas as pd\n",
    "import coredotdata as cdd\n",
    "cdd.download_dataset(\"86B8msc3\", target_directory='./data/')"
   ]
  },
  {
   "cell_type": "code",
   "execution_count": 2,
   "id": "25a5b200",
   "metadata": {},
   "outputs": [],
   "source": [
    "cdd.download_dataset?"
   ]
  },
  {
   "cell_type": "code",
   "execution_count": 4,
   "id": "952e926a",
   "metadata": {},
   "outputs": [],
   "source": [
    "pd.read_excel?"
   ]
  },
  {
   "cell_type": "markdown",
   "id": "d8d1e8f5",
   "metadata": {},
   "source": [
    "위 코드를 실행하면 다음과 같은 설명을 볼 수 있습니다."
   ]
  },
  {
   "cell_type": "markdown",
   "id": "e24ca5ed",
   "metadata": {},
   "source": [
    "engine : str, default None\n",
    "    If io is not a buffer or path, this must be set to identify io.\n",
    "    Supported engines: \"xlrd\", \"openpyxl\", \"odf\", \"pyxlsb\".\n",
    "    Engine compatibility :\n",
    "\n",
    "    - \"xlrd\" supports old-style Excel files (.xls).\n",
    "    - \"openpyxl\" supports newer Excel file formats.\n",
    "    - \"odf\" supports OpenDocument file formats (.odf, .ods, .odt).\n",
    "    - \"pyxlsb\" supports Binary Excel files."
   ]
  },
  {
   "cell_type": "markdown",
   "id": "0c4410c2",
   "metadata": {},
   "source": [
    "old style의 엑셀파일 xls의 경우 engine을 xlrd로 설정해야합니다."
   ]
  },
  {
   "cell_type": "code",
   "execution_count": 3,
   "id": "606712e8",
   "metadata": {},
   "outputs": [
    {
     "ename": "XLRDError",
     "evalue": "Unsupported format, or corrupt file: Expected BOF record; found b'\\n\\n\\n\\n\\n\\n\\n\\n'",
     "output_type": "error",
     "traceback": [
      "\u001b[0;31m---------------------------------------------------------------------------\u001b[0m",
      "\u001b[0;31mXLRDError\u001b[0m                                 Traceback (most recent call last)",
      "\u001b[0;32m/var/folders/84/r1v1cbv15qv_ft1zjbp_lnf00000gq/T/ipykernel_36670/3916427633.py\u001b[0m in \u001b[0;36m<module>\u001b[0;34m\u001b[0m\n\u001b[0;32m----> 1\u001b[0;31m \u001b[0mpd\u001b[0m\u001b[0;34m.\u001b[0m\u001b[0mread_excel\u001b[0m\u001b[0;34m(\u001b[0m\u001b[0;34m'./data/KOBIS_범죄도시지역별_2022-08-16.xls'\u001b[0m\u001b[0;34m,\u001b[0m \u001b[0mengine\u001b[0m\u001b[0;34m=\u001b[0m\u001b[0;34m'xlrd'\u001b[0m\u001b[0;34m)\u001b[0m\u001b[0;34m\u001b[0m\u001b[0;34m\u001b[0m\u001b[0m\n\u001b[0m",
      "\u001b[0;32m~/opt/anaconda3/lib/python3.9/site-packages/pandas/util/_decorators.py\u001b[0m in \u001b[0;36mwrapper\u001b[0;34m(*args, **kwargs)\u001b[0m\n\u001b[1;32m    309\u001b[0m                     \u001b[0mstacklevel\u001b[0m\u001b[0;34m=\u001b[0m\u001b[0mstacklevel\u001b[0m\u001b[0;34m,\u001b[0m\u001b[0;34m\u001b[0m\u001b[0;34m\u001b[0m\u001b[0m\n\u001b[1;32m    310\u001b[0m                 )\n\u001b[0;32m--> 311\u001b[0;31m             \u001b[0;32mreturn\u001b[0m \u001b[0mfunc\u001b[0m\u001b[0;34m(\u001b[0m\u001b[0;34m*\u001b[0m\u001b[0margs\u001b[0m\u001b[0;34m,\u001b[0m \u001b[0;34m**\u001b[0m\u001b[0mkwargs\u001b[0m\u001b[0;34m)\u001b[0m\u001b[0;34m\u001b[0m\u001b[0;34m\u001b[0m\u001b[0m\n\u001b[0m\u001b[1;32m    312\u001b[0m \u001b[0;34m\u001b[0m\u001b[0m\n\u001b[1;32m    313\u001b[0m         \u001b[0;32mreturn\u001b[0m \u001b[0mwrapper\u001b[0m\u001b[0;34m\u001b[0m\u001b[0;34m\u001b[0m\u001b[0m\n",
      "\u001b[0;32m~/opt/anaconda3/lib/python3.9/site-packages/pandas/io/excel/_base.py\u001b[0m in \u001b[0;36mread_excel\u001b[0;34m(io, sheet_name, header, names, index_col, usecols, squeeze, dtype, engine, converters, true_values, false_values, skiprows, nrows, na_values, keep_default_na, na_filter, verbose, parse_dates, date_parser, thousands, decimal, comment, skipfooter, convert_float, mangle_dupe_cols, storage_options)\u001b[0m\n\u001b[1;32m    455\u001b[0m     \u001b[0;32mif\u001b[0m \u001b[0;32mnot\u001b[0m \u001b[0misinstance\u001b[0m\u001b[0;34m(\u001b[0m\u001b[0mio\u001b[0m\u001b[0;34m,\u001b[0m \u001b[0mExcelFile\u001b[0m\u001b[0;34m)\u001b[0m\u001b[0;34m:\u001b[0m\u001b[0;34m\u001b[0m\u001b[0;34m\u001b[0m\u001b[0m\n\u001b[1;32m    456\u001b[0m         \u001b[0mshould_close\u001b[0m \u001b[0;34m=\u001b[0m \u001b[0;32mTrue\u001b[0m\u001b[0;34m\u001b[0m\u001b[0;34m\u001b[0m\u001b[0m\n\u001b[0;32m--> 457\u001b[0;31m         \u001b[0mio\u001b[0m \u001b[0;34m=\u001b[0m \u001b[0mExcelFile\u001b[0m\u001b[0;34m(\u001b[0m\u001b[0mio\u001b[0m\u001b[0;34m,\u001b[0m \u001b[0mstorage_options\u001b[0m\u001b[0;34m=\u001b[0m\u001b[0mstorage_options\u001b[0m\u001b[0;34m,\u001b[0m \u001b[0mengine\u001b[0m\u001b[0;34m=\u001b[0m\u001b[0mengine\u001b[0m\u001b[0;34m)\u001b[0m\u001b[0;34m\u001b[0m\u001b[0;34m\u001b[0m\u001b[0m\n\u001b[0m\u001b[1;32m    458\u001b[0m     \u001b[0;32melif\u001b[0m \u001b[0mengine\u001b[0m \u001b[0;32mand\u001b[0m \u001b[0mengine\u001b[0m \u001b[0;34m!=\u001b[0m \u001b[0mio\u001b[0m\u001b[0;34m.\u001b[0m\u001b[0mengine\u001b[0m\u001b[0;34m:\u001b[0m\u001b[0;34m\u001b[0m\u001b[0;34m\u001b[0m\u001b[0m\n\u001b[1;32m    459\u001b[0m         raise ValueError(\n",
      "\u001b[0;32m~/opt/anaconda3/lib/python3.9/site-packages/pandas/io/excel/_base.py\u001b[0m in \u001b[0;36m__init__\u001b[0;34m(self, path_or_buffer, engine, storage_options)\u001b[0m\n\u001b[1;32m   1417\u001b[0m         \u001b[0mself\u001b[0m\u001b[0;34m.\u001b[0m\u001b[0mstorage_options\u001b[0m \u001b[0;34m=\u001b[0m \u001b[0mstorage_options\u001b[0m\u001b[0;34m\u001b[0m\u001b[0;34m\u001b[0m\u001b[0m\n\u001b[1;32m   1418\u001b[0m \u001b[0;34m\u001b[0m\u001b[0m\n\u001b[0;32m-> 1419\u001b[0;31m         \u001b[0mself\u001b[0m\u001b[0;34m.\u001b[0m\u001b[0m_reader\u001b[0m \u001b[0;34m=\u001b[0m \u001b[0mself\u001b[0m\u001b[0;34m.\u001b[0m\u001b[0m_engines\u001b[0m\u001b[0;34m[\u001b[0m\u001b[0mengine\u001b[0m\u001b[0;34m]\u001b[0m\u001b[0;34m(\u001b[0m\u001b[0mself\u001b[0m\u001b[0;34m.\u001b[0m\u001b[0m_io\u001b[0m\u001b[0;34m,\u001b[0m \u001b[0mstorage_options\u001b[0m\u001b[0;34m=\u001b[0m\u001b[0mstorage_options\u001b[0m\u001b[0;34m)\u001b[0m\u001b[0;34m\u001b[0m\u001b[0;34m\u001b[0m\u001b[0m\n\u001b[0m\u001b[1;32m   1420\u001b[0m \u001b[0;34m\u001b[0m\u001b[0m\n\u001b[1;32m   1421\u001b[0m     \u001b[0;32mdef\u001b[0m \u001b[0m__fspath__\u001b[0m\u001b[0;34m(\u001b[0m\u001b[0mself\u001b[0m\u001b[0;34m)\u001b[0m\u001b[0;34m:\u001b[0m\u001b[0;34m\u001b[0m\u001b[0;34m\u001b[0m\u001b[0m\n",
      "\u001b[0;32m~/opt/anaconda3/lib/python3.9/site-packages/pandas/io/excel/_xlrd.py\u001b[0m in \u001b[0;36m__init__\u001b[0;34m(self, filepath_or_buffer, storage_options)\u001b[0m\n\u001b[1;32m     23\u001b[0m         \u001b[0merr_msg\u001b[0m \u001b[0;34m=\u001b[0m \u001b[0;34m\"Install xlrd >= 1.0.0 for Excel support\"\u001b[0m\u001b[0;34m\u001b[0m\u001b[0;34m\u001b[0m\u001b[0m\n\u001b[1;32m     24\u001b[0m         \u001b[0mimport_optional_dependency\u001b[0m\u001b[0;34m(\u001b[0m\u001b[0;34m\"xlrd\"\u001b[0m\u001b[0;34m,\u001b[0m \u001b[0mextra\u001b[0m\u001b[0;34m=\u001b[0m\u001b[0merr_msg\u001b[0m\u001b[0;34m)\u001b[0m\u001b[0;34m\u001b[0m\u001b[0;34m\u001b[0m\u001b[0m\n\u001b[0;32m---> 25\u001b[0;31m         \u001b[0msuper\u001b[0m\u001b[0;34m(\u001b[0m\u001b[0;34m)\u001b[0m\u001b[0;34m.\u001b[0m\u001b[0m__init__\u001b[0m\u001b[0;34m(\u001b[0m\u001b[0mfilepath_or_buffer\u001b[0m\u001b[0;34m,\u001b[0m \u001b[0mstorage_options\u001b[0m\u001b[0;34m=\u001b[0m\u001b[0mstorage_options\u001b[0m\u001b[0;34m)\u001b[0m\u001b[0;34m\u001b[0m\u001b[0;34m\u001b[0m\u001b[0m\n\u001b[0m\u001b[1;32m     26\u001b[0m \u001b[0;34m\u001b[0m\u001b[0m\n\u001b[1;32m     27\u001b[0m     \u001b[0;34m@\u001b[0m\u001b[0mproperty\u001b[0m\u001b[0;34m\u001b[0m\u001b[0;34m\u001b[0m\u001b[0m\n",
      "\u001b[0;32m~/opt/anaconda3/lib/python3.9/site-packages/pandas/io/excel/_base.py\u001b[0m in \u001b[0;36m__init__\u001b[0;34m(self, filepath_or_buffer, storage_options)\u001b[0m\n\u001b[1;32m    516\u001b[0m             \u001b[0mself\u001b[0m\u001b[0;34m.\u001b[0m\u001b[0mhandles\u001b[0m\u001b[0;34m.\u001b[0m\u001b[0mhandle\u001b[0m\u001b[0;34m.\u001b[0m\u001b[0mseek\u001b[0m\u001b[0;34m(\u001b[0m\u001b[0;36m0\u001b[0m\u001b[0;34m)\u001b[0m\u001b[0;34m\u001b[0m\u001b[0;34m\u001b[0m\u001b[0m\n\u001b[1;32m    517\u001b[0m             \u001b[0;32mtry\u001b[0m\u001b[0;34m:\u001b[0m\u001b[0;34m\u001b[0m\u001b[0;34m\u001b[0m\u001b[0m\n\u001b[0;32m--> 518\u001b[0;31m                 \u001b[0mself\u001b[0m\u001b[0;34m.\u001b[0m\u001b[0mbook\u001b[0m \u001b[0;34m=\u001b[0m \u001b[0mself\u001b[0m\u001b[0;34m.\u001b[0m\u001b[0mload_workbook\u001b[0m\u001b[0;34m(\u001b[0m\u001b[0mself\u001b[0m\u001b[0;34m.\u001b[0m\u001b[0mhandles\u001b[0m\u001b[0;34m.\u001b[0m\u001b[0mhandle\u001b[0m\u001b[0;34m)\u001b[0m\u001b[0;34m\u001b[0m\u001b[0;34m\u001b[0m\u001b[0m\n\u001b[0m\u001b[1;32m    519\u001b[0m             \u001b[0;32mexcept\u001b[0m \u001b[0mException\u001b[0m\u001b[0;34m:\u001b[0m\u001b[0;34m\u001b[0m\u001b[0;34m\u001b[0m\u001b[0m\n\u001b[1;32m    520\u001b[0m                 \u001b[0mself\u001b[0m\u001b[0;34m.\u001b[0m\u001b[0mclose\u001b[0m\u001b[0;34m(\u001b[0m\u001b[0;34m)\u001b[0m\u001b[0;34m\u001b[0m\u001b[0;34m\u001b[0m\u001b[0m\n",
      "\u001b[0;32m~/opt/anaconda3/lib/python3.9/site-packages/pandas/io/excel/_xlrd.py\u001b[0m in \u001b[0;36mload_workbook\u001b[0;34m(self, filepath_or_buffer)\u001b[0m\n\u001b[1;32m     36\u001b[0m         \u001b[0;32mif\u001b[0m \u001b[0mhasattr\u001b[0m\u001b[0;34m(\u001b[0m\u001b[0mfilepath_or_buffer\u001b[0m\u001b[0;34m,\u001b[0m \u001b[0;34m\"read\"\u001b[0m\u001b[0;34m)\u001b[0m\u001b[0;34m:\u001b[0m\u001b[0;34m\u001b[0m\u001b[0;34m\u001b[0m\u001b[0m\n\u001b[1;32m     37\u001b[0m             \u001b[0mdata\u001b[0m \u001b[0;34m=\u001b[0m \u001b[0mfilepath_or_buffer\u001b[0m\u001b[0;34m.\u001b[0m\u001b[0mread\u001b[0m\u001b[0;34m(\u001b[0m\u001b[0;34m)\u001b[0m\u001b[0;34m\u001b[0m\u001b[0;34m\u001b[0m\u001b[0m\n\u001b[0;32m---> 38\u001b[0;31m             \u001b[0;32mreturn\u001b[0m \u001b[0mopen_workbook\u001b[0m\u001b[0;34m(\u001b[0m\u001b[0mfile_contents\u001b[0m\u001b[0;34m=\u001b[0m\u001b[0mdata\u001b[0m\u001b[0;34m)\u001b[0m\u001b[0;34m\u001b[0m\u001b[0;34m\u001b[0m\u001b[0m\n\u001b[0m\u001b[1;32m     39\u001b[0m         \u001b[0;32melse\u001b[0m\u001b[0;34m:\u001b[0m\u001b[0;34m\u001b[0m\u001b[0;34m\u001b[0m\u001b[0m\n\u001b[1;32m     40\u001b[0m             \u001b[0;32mreturn\u001b[0m \u001b[0mopen_workbook\u001b[0m\u001b[0;34m(\u001b[0m\u001b[0mfilepath_or_buffer\u001b[0m\u001b[0;34m)\u001b[0m\u001b[0;34m\u001b[0m\u001b[0;34m\u001b[0m\u001b[0m\n",
      "\u001b[0;32m~/opt/anaconda3/lib/python3.9/site-packages/xlrd/__init__.py\u001b[0m in \u001b[0;36mopen_workbook\u001b[0;34m(filename, logfile, verbosity, use_mmap, file_contents, encoding_override, formatting_info, on_demand, ragged_rows, ignore_workbook_corruption)\u001b[0m\n\u001b[1;32m    170\u001b[0m         \u001b[0;32mraise\u001b[0m \u001b[0mXLRDError\u001b[0m\u001b[0;34m(\u001b[0m\u001b[0mFILE_FORMAT_DESCRIPTIONS\u001b[0m\u001b[0;34m[\u001b[0m\u001b[0mfile_format\u001b[0m\u001b[0;34m]\u001b[0m\u001b[0;34m+\u001b[0m\u001b[0;34m'; not supported'\u001b[0m\u001b[0;34m)\u001b[0m\u001b[0;34m\u001b[0m\u001b[0;34m\u001b[0m\u001b[0m\n\u001b[1;32m    171\u001b[0m \u001b[0;34m\u001b[0m\u001b[0m\n\u001b[0;32m--> 172\u001b[0;31m     bk = open_workbook_xls(\n\u001b[0m\u001b[1;32m    173\u001b[0m         \u001b[0mfilename\u001b[0m\u001b[0;34m=\u001b[0m\u001b[0mfilename\u001b[0m\u001b[0;34m,\u001b[0m\u001b[0;34m\u001b[0m\u001b[0;34m\u001b[0m\u001b[0m\n\u001b[1;32m    174\u001b[0m         \u001b[0mlogfile\u001b[0m\u001b[0;34m=\u001b[0m\u001b[0mlogfile\u001b[0m\u001b[0;34m,\u001b[0m\u001b[0;34m\u001b[0m\u001b[0;34m\u001b[0m\u001b[0m\n",
      "\u001b[0;32m~/opt/anaconda3/lib/python3.9/site-packages/xlrd/book.py\u001b[0m in \u001b[0;36mopen_workbook_xls\u001b[0;34m(filename, logfile, verbosity, use_mmap, file_contents, encoding_override, formatting_info, on_demand, ragged_rows, ignore_workbook_corruption)\u001b[0m\n\u001b[1;32m     77\u001b[0m         \u001b[0mt1\u001b[0m \u001b[0;34m=\u001b[0m \u001b[0mperf_counter\u001b[0m\u001b[0;34m(\u001b[0m\u001b[0;34m)\u001b[0m\u001b[0;34m\u001b[0m\u001b[0;34m\u001b[0m\u001b[0m\n\u001b[1;32m     78\u001b[0m         \u001b[0mbk\u001b[0m\u001b[0;34m.\u001b[0m\u001b[0mload_time_stage_1\u001b[0m \u001b[0;34m=\u001b[0m \u001b[0mt1\u001b[0m \u001b[0;34m-\u001b[0m \u001b[0mt0\u001b[0m\u001b[0;34m\u001b[0m\u001b[0;34m\u001b[0m\u001b[0m\n\u001b[0;32m---> 79\u001b[0;31m         \u001b[0mbiff_version\u001b[0m \u001b[0;34m=\u001b[0m \u001b[0mbk\u001b[0m\u001b[0;34m.\u001b[0m\u001b[0mgetbof\u001b[0m\u001b[0;34m(\u001b[0m\u001b[0mXL_WORKBOOK_GLOBALS\u001b[0m\u001b[0;34m)\u001b[0m\u001b[0;34m\u001b[0m\u001b[0;34m\u001b[0m\u001b[0m\n\u001b[0m\u001b[1;32m     80\u001b[0m         \u001b[0;32mif\u001b[0m \u001b[0;32mnot\u001b[0m \u001b[0mbiff_version\u001b[0m\u001b[0;34m:\u001b[0m\u001b[0;34m\u001b[0m\u001b[0;34m\u001b[0m\u001b[0m\n\u001b[1;32m     81\u001b[0m             \u001b[0;32mraise\u001b[0m \u001b[0mXLRDError\u001b[0m\u001b[0;34m(\u001b[0m\u001b[0;34m\"Can't determine file's BIFF version\"\u001b[0m\u001b[0;34m)\u001b[0m\u001b[0;34m\u001b[0m\u001b[0;34m\u001b[0m\u001b[0m\n",
      "\u001b[0;32m~/opt/anaconda3/lib/python3.9/site-packages/xlrd/book.py\u001b[0m in \u001b[0;36mgetbof\u001b[0;34m(self, rqd_stream)\u001b[0m\n\u001b[1;32m   1282\u001b[0m             \u001b[0mbof_error\u001b[0m\u001b[0;34m(\u001b[0m\u001b[0;34m'Expected BOF record; met end of file'\u001b[0m\u001b[0;34m)\u001b[0m\u001b[0;34m\u001b[0m\u001b[0;34m\u001b[0m\u001b[0m\n\u001b[1;32m   1283\u001b[0m         \u001b[0;32mif\u001b[0m \u001b[0mopcode\u001b[0m \u001b[0;32mnot\u001b[0m \u001b[0;32min\u001b[0m \u001b[0mbofcodes\u001b[0m\u001b[0;34m:\u001b[0m\u001b[0;34m\u001b[0m\u001b[0;34m\u001b[0m\u001b[0m\n\u001b[0;32m-> 1284\u001b[0;31m             \u001b[0mbof_error\u001b[0m\u001b[0;34m(\u001b[0m\u001b[0;34m'Expected BOF record; found %r'\u001b[0m \u001b[0;34m%\u001b[0m \u001b[0mself\u001b[0m\u001b[0;34m.\u001b[0m\u001b[0mmem\u001b[0m\u001b[0;34m[\u001b[0m\u001b[0msavpos\u001b[0m\u001b[0;34m:\u001b[0m\u001b[0msavpos\u001b[0m\u001b[0;34m+\u001b[0m\u001b[0;36m8\u001b[0m\u001b[0;34m]\u001b[0m\u001b[0;34m)\u001b[0m\u001b[0;34m\u001b[0m\u001b[0;34m\u001b[0m\u001b[0m\n\u001b[0m\u001b[1;32m   1285\u001b[0m         \u001b[0mlength\u001b[0m \u001b[0;34m=\u001b[0m \u001b[0mself\u001b[0m\u001b[0;34m.\u001b[0m\u001b[0mget2bytes\u001b[0m\u001b[0;34m(\u001b[0m\u001b[0;34m)\u001b[0m\u001b[0;34m\u001b[0m\u001b[0;34m\u001b[0m\u001b[0m\n\u001b[1;32m   1286\u001b[0m         \u001b[0;32mif\u001b[0m \u001b[0mlength\u001b[0m \u001b[0;34m==\u001b[0m \u001b[0mMY_EOF\u001b[0m\u001b[0;34m:\u001b[0m\u001b[0;34m\u001b[0m\u001b[0;34m\u001b[0m\u001b[0m\n",
      "\u001b[0;32m~/opt/anaconda3/lib/python3.9/site-packages/xlrd/book.py\u001b[0m in \u001b[0;36mbof_error\u001b[0;34m(msg)\u001b[0m\n\u001b[1;32m   1276\u001b[0m \u001b[0;34m\u001b[0m\u001b[0m\n\u001b[1;32m   1277\u001b[0m         \u001b[0;32mdef\u001b[0m \u001b[0mbof_error\u001b[0m\u001b[0;34m(\u001b[0m\u001b[0mmsg\u001b[0m\u001b[0;34m)\u001b[0m\u001b[0;34m:\u001b[0m\u001b[0;34m\u001b[0m\u001b[0;34m\u001b[0m\u001b[0m\n\u001b[0;32m-> 1278\u001b[0;31m             \u001b[0;32mraise\u001b[0m \u001b[0mXLRDError\u001b[0m\u001b[0;34m(\u001b[0m\u001b[0;34m'Unsupported format, or corrupt file: '\u001b[0m \u001b[0;34m+\u001b[0m \u001b[0mmsg\u001b[0m\u001b[0;34m)\u001b[0m\u001b[0;34m\u001b[0m\u001b[0;34m\u001b[0m\u001b[0m\n\u001b[0m\u001b[1;32m   1279\u001b[0m         \u001b[0msavpos\u001b[0m \u001b[0;34m=\u001b[0m \u001b[0mself\u001b[0m\u001b[0;34m.\u001b[0m\u001b[0m_position\u001b[0m\u001b[0;34m\u001b[0m\u001b[0;34m\u001b[0m\u001b[0m\n\u001b[1;32m   1280\u001b[0m         \u001b[0mopcode\u001b[0m \u001b[0;34m=\u001b[0m \u001b[0mself\u001b[0m\u001b[0;34m.\u001b[0m\u001b[0mget2bytes\u001b[0m\u001b[0;34m(\u001b[0m\u001b[0;34m)\u001b[0m\u001b[0;34m\u001b[0m\u001b[0;34m\u001b[0m\u001b[0m\n",
      "\u001b[0;31mXLRDError\u001b[0m: Unsupported format, or corrupt file: Expected BOF record; found b'\\n\\n\\n\\n\\n\\n\\n\\n'"
     ]
    }
   ],
   "source": [
    "pd.read_excel('./data/KOBIS_범죄도시지역별_2022-08-16.xls', engine='xlrd')"
   ]
  },
  {
   "cell_type": "markdown",
   "id": "f804e582",
   "metadata": {},
   "source": [
    "하지만 에러가 발생합니다."
   ]
  },
  {
   "cell_type": "markdown",
   "id": "9579afec",
   "metadata": {},
   "source": [
    "에러 메세지는 XLRDError: Unsupported format, or corrupt file: Expected BOF record; found b'\\n\\n\\n\\n\\n\\n\\n\\n' 입니다."
   ]
  },
  {
   "cell_type": "markdown",
   "id": "ad9d5a68",
   "metadata": {},
   "source": [
    "해당 메세지로 구글에 검색해보면"
   ]
  },
  {
   "cell_type": "markdown",
   "id": "e48de7ff",
   "metadata": {},
   "source": [
    "어느 블로거가 한글로 잘 정리 해 놓은 [글이 있습니다](https://blog.naver.com/jin31200/221355318078). "
   ]
  },
  {
   "cell_type": "markdown",
   "id": "8a2a8423",
   "metadata": {},
   "source": [
    "위 글에서는 xls파일을 xlsx파일로 변환합니다."
   ]
  },
  {
   "cell_type": "markdown",
   "id": "c17da7a3",
   "metadata": {},
   "source": [
    "해당 과정에서 win32com이라는 라이브러리를 사용하는데 mac에서는 호환이 안된다고 합니다.<br> ~~출처 : stackoverflow~~"
   ]
  },
  {
   "cell_type": "markdown",
   "id": "bb1cebd2",
   "metadata": {},
   "source": [
    "---"
   ]
  },
  {
   "cell_type": "markdown",
   "id": "3129443c",
   "metadata": {},
   "source": [
    "# Stackoverflow 도움받기"
   ]
  },
  {
   "cell_type": "markdown",
   "id": "6e5e0a23",
   "metadata": {},
   "source": [
    "[이 글](https://stackoverflow.com/questions/16504975/error-unsupported-format-or-corrupt-file-expected-bof-record)에서는 xlsx파일을 열지 못했습니다. 하지만 error 메세지가 동일하기 때문에 도움을 받을 수 있을 것 같습니다."
   ]
  },
  {
   "cell_type": "markdown",
   "id": "5577bc25",
   "metadata": {},
   "source": [
    "45개의 추천을 받은 답변을 따라해봤습니다."
   ]
  },
  {
   "cell_type": "markdown",
   "id": "9e1f58a5",
   "metadata": {},
   "source": [
    "질문자는 xlsx인데 .csv를 읽을 때 read_csv를 사용하라고 합니다."
   ]
  },
  {
   "cell_type": "markdown",
   "id": "d9248736",
   "metadata": {},
   "source": [
    "뭔가 이상하지만 따라해봅니다."
   ]
  },
  {
   "cell_type": "code",
   "execution_count": 4,
   "id": "83db5a5d",
   "metadata": {},
   "outputs": [
    {
     "ename": "ParserError",
     "evalue": "Error tokenizing data. C error: Expected 1 fields in line 15, saw 5\n",
     "output_type": "error",
     "traceback": [
      "\u001b[0;31m---------------------------------------------------------------------------\u001b[0m",
      "\u001b[0;31mParserError\u001b[0m                               Traceback (most recent call last)",
      "\u001b[0;32m/var/folders/84/r1v1cbv15qv_ft1zjbp_lnf00000gq/T/ipykernel_36670/1918939580.py\u001b[0m in \u001b[0;36m<module>\u001b[0;34m\u001b[0m\n\u001b[0;32m----> 1\u001b[0;31m \u001b[0mpd\u001b[0m\u001b[0;34m.\u001b[0m\u001b[0mread_csv\u001b[0m\u001b[0;34m(\u001b[0m\u001b[0;34m'./data/KOBIS_범죄도시지역별_2022-08-16.xls'\u001b[0m\u001b[0;34m)\u001b[0m\u001b[0;34m\u001b[0m\u001b[0;34m\u001b[0m\u001b[0m\n\u001b[0m",
      "\u001b[0;32m~/opt/anaconda3/lib/python3.9/site-packages/pandas/util/_decorators.py\u001b[0m in \u001b[0;36mwrapper\u001b[0;34m(*args, **kwargs)\u001b[0m\n\u001b[1;32m    309\u001b[0m                     \u001b[0mstacklevel\u001b[0m\u001b[0;34m=\u001b[0m\u001b[0mstacklevel\u001b[0m\u001b[0;34m,\u001b[0m\u001b[0;34m\u001b[0m\u001b[0;34m\u001b[0m\u001b[0m\n\u001b[1;32m    310\u001b[0m                 )\n\u001b[0;32m--> 311\u001b[0;31m             \u001b[0;32mreturn\u001b[0m \u001b[0mfunc\u001b[0m\u001b[0;34m(\u001b[0m\u001b[0;34m*\u001b[0m\u001b[0margs\u001b[0m\u001b[0;34m,\u001b[0m \u001b[0;34m**\u001b[0m\u001b[0mkwargs\u001b[0m\u001b[0;34m)\u001b[0m\u001b[0;34m\u001b[0m\u001b[0;34m\u001b[0m\u001b[0m\n\u001b[0m\u001b[1;32m    312\u001b[0m \u001b[0;34m\u001b[0m\u001b[0m\n\u001b[1;32m    313\u001b[0m         \u001b[0;32mreturn\u001b[0m \u001b[0mwrapper\u001b[0m\u001b[0;34m\u001b[0m\u001b[0;34m\u001b[0m\u001b[0m\n",
      "\u001b[0;32m~/opt/anaconda3/lib/python3.9/site-packages/pandas/io/parsers/readers.py\u001b[0m in \u001b[0;36mread_csv\u001b[0;34m(filepath_or_buffer, sep, delimiter, header, names, index_col, usecols, squeeze, prefix, mangle_dupe_cols, dtype, engine, converters, true_values, false_values, skipinitialspace, skiprows, skipfooter, nrows, na_values, keep_default_na, na_filter, verbose, skip_blank_lines, parse_dates, infer_datetime_format, keep_date_col, date_parser, dayfirst, cache_dates, iterator, chunksize, compression, thousands, decimal, lineterminator, quotechar, quoting, doublequote, escapechar, comment, encoding, encoding_errors, dialect, error_bad_lines, warn_bad_lines, on_bad_lines, delim_whitespace, low_memory, memory_map, float_precision, storage_options)\u001b[0m\n\u001b[1;32m    678\u001b[0m     \u001b[0mkwds\u001b[0m\u001b[0;34m.\u001b[0m\u001b[0mupdate\u001b[0m\u001b[0;34m(\u001b[0m\u001b[0mkwds_defaults\u001b[0m\u001b[0;34m)\u001b[0m\u001b[0;34m\u001b[0m\u001b[0;34m\u001b[0m\u001b[0m\n\u001b[1;32m    679\u001b[0m \u001b[0;34m\u001b[0m\u001b[0m\n\u001b[0;32m--> 680\u001b[0;31m     \u001b[0;32mreturn\u001b[0m \u001b[0m_read\u001b[0m\u001b[0;34m(\u001b[0m\u001b[0mfilepath_or_buffer\u001b[0m\u001b[0;34m,\u001b[0m \u001b[0mkwds\u001b[0m\u001b[0;34m)\u001b[0m\u001b[0;34m\u001b[0m\u001b[0;34m\u001b[0m\u001b[0m\n\u001b[0m\u001b[1;32m    681\u001b[0m \u001b[0;34m\u001b[0m\u001b[0m\n\u001b[1;32m    682\u001b[0m \u001b[0;34m\u001b[0m\u001b[0m\n",
      "\u001b[0;32m~/opt/anaconda3/lib/python3.9/site-packages/pandas/io/parsers/readers.py\u001b[0m in \u001b[0;36m_read\u001b[0;34m(filepath_or_buffer, kwds)\u001b[0m\n\u001b[1;32m    579\u001b[0m \u001b[0;34m\u001b[0m\u001b[0m\n\u001b[1;32m    580\u001b[0m     \u001b[0;32mwith\u001b[0m \u001b[0mparser\u001b[0m\u001b[0;34m:\u001b[0m\u001b[0;34m\u001b[0m\u001b[0;34m\u001b[0m\u001b[0m\n\u001b[0;32m--> 581\u001b[0;31m         \u001b[0;32mreturn\u001b[0m \u001b[0mparser\u001b[0m\u001b[0;34m.\u001b[0m\u001b[0mread\u001b[0m\u001b[0;34m(\u001b[0m\u001b[0mnrows\u001b[0m\u001b[0;34m)\u001b[0m\u001b[0;34m\u001b[0m\u001b[0;34m\u001b[0m\u001b[0m\n\u001b[0m\u001b[1;32m    582\u001b[0m \u001b[0;34m\u001b[0m\u001b[0m\n\u001b[1;32m    583\u001b[0m \u001b[0;34m\u001b[0m\u001b[0m\n",
      "\u001b[0;32m~/opt/anaconda3/lib/python3.9/site-packages/pandas/io/parsers/readers.py\u001b[0m in \u001b[0;36mread\u001b[0;34m(self, nrows)\u001b[0m\n\u001b[1;32m   1252\u001b[0m             \u001b[0mnrows\u001b[0m \u001b[0;34m=\u001b[0m \u001b[0mvalidate_integer\u001b[0m\u001b[0;34m(\u001b[0m\u001b[0;34m\"nrows\"\u001b[0m\u001b[0;34m,\u001b[0m \u001b[0mnrows\u001b[0m\u001b[0;34m)\u001b[0m\u001b[0;34m\u001b[0m\u001b[0;34m\u001b[0m\u001b[0m\n\u001b[1;32m   1253\u001b[0m             \u001b[0;32mtry\u001b[0m\u001b[0;34m:\u001b[0m\u001b[0;34m\u001b[0m\u001b[0;34m\u001b[0m\u001b[0m\n\u001b[0;32m-> 1254\u001b[0;31m                 \u001b[0mindex\u001b[0m\u001b[0;34m,\u001b[0m \u001b[0mcolumns\u001b[0m\u001b[0;34m,\u001b[0m \u001b[0mcol_dict\u001b[0m \u001b[0;34m=\u001b[0m \u001b[0mself\u001b[0m\u001b[0;34m.\u001b[0m\u001b[0m_engine\u001b[0m\u001b[0;34m.\u001b[0m\u001b[0mread\u001b[0m\u001b[0;34m(\u001b[0m\u001b[0mnrows\u001b[0m\u001b[0;34m)\u001b[0m\u001b[0;34m\u001b[0m\u001b[0;34m\u001b[0m\u001b[0m\n\u001b[0m\u001b[1;32m   1255\u001b[0m             \u001b[0;32mexcept\u001b[0m \u001b[0mException\u001b[0m\u001b[0;34m:\u001b[0m\u001b[0;34m\u001b[0m\u001b[0;34m\u001b[0m\u001b[0m\n\u001b[1;32m   1256\u001b[0m                 \u001b[0mself\u001b[0m\u001b[0;34m.\u001b[0m\u001b[0mclose\u001b[0m\u001b[0;34m(\u001b[0m\u001b[0;34m)\u001b[0m\u001b[0;34m\u001b[0m\u001b[0;34m\u001b[0m\u001b[0m\n",
      "\u001b[0;32m~/opt/anaconda3/lib/python3.9/site-packages/pandas/io/parsers/c_parser_wrapper.py\u001b[0m in \u001b[0;36mread\u001b[0;34m(self, nrows)\u001b[0m\n\u001b[1;32m    223\u001b[0m         \u001b[0;32mtry\u001b[0m\u001b[0;34m:\u001b[0m\u001b[0;34m\u001b[0m\u001b[0;34m\u001b[0m\u001b[0m\n\u001b[1;32m    224\u001b[0m             \u001b[0;32mif\u001b[0m \u001b[0mself\u001b[0m\u001b[0;34m.\u001b[0m\u001b[0mlow_memory\u001b[0m\u001b[0;34m:\u001b[0m\u001b[0;34m\u001b[0m\u001b[0;34m\u001b[0m\u001b[0m\n\u001b[0;32m--> 225\u001b[0;31m                 \u001b[0mchunks\u001b[0m \u001b[0;34m=\u001b[0m \u001b[0mself\u001b[0m\u001b[0;34m.\u001b[0m\u001b[0m_reader\u001b[0m\u001b[0;34m.\u001b[0m\u001b[0mread_low_memory\u001b[0m\u001b[0;34m(\u001b[0m\u001b[0mnrows\u001b[0m\u001b[0;34m)\u001b[0m\u001b[0;34m\u001b[0m\u001b[0;34m\u001b[0m\u001b[0m\n\u001b[0m\u001b[1;32m    226\u001b[0m                 \u001b[0;31m# destructive to chunks\u001b[0m\u001b[0;34m\u001b[0m\u001b[0;34m\u001b[0m\u001b[0m\n\u001b[1;32m    227\u001b[0m                 \u001b[0mdata\u001b[0m \u001b[0;34m=\u001b[0m \u001b[0m_concatenate_chunks\u001b[0m\u001b[0;34m(\u001b[0m\u001b[0mchunks\u001b[0m\u001b[0;34m)\u001b[0m\u001b[0;34m\u001b[0m\u001b[0;34m\u001b[0m\u001b[0m\n",
      "\u001b[0;32mpandas/_libs/parsers.pyx\u001b[0m in \u001b[0;36mpandas._libs.parsers.TextReader.read_low_memory\u001b[0;34m()\u001b[0m\n",
      "\u001b[0;32mpandas/_libs/parsers.pyx\u001b[0m in \u001b[0;36mpandas._libs.parsers.TextReader._read_rows\u001b[0;34m()\u001b[0m\n",
      "\u001b[0;32mpandas/_libs/parsers.pyx\u001b[0m in \u001b[0;36mpandas._libs.parsers.TextReader._tokenize_rows\u001b[0;34m()\u001b[0m\n",
      "\u001b[0;32mpandas/_libs/parsers.pyx\u001b[0m in \u001b[0;36mpandas._libs.parsers.raise_parser_error\u001b[0;34m()\u001b[0m\n",
      "\u001b[0;31mParserError\u001b[0m: Error tokenizing data. C error: Expected 1 fields in line 15, saw 5\n"
     ]
    }
   ],
   "source": [
    "pd.read_csv('./data/KOBIS_범죄도시지역별_2022-08-16.xls')"
   ]
  },
  {
   "cell_type": "markdown",
   "id": "3bb86955",
   "metadata": {},
   "source": [
    "될리가 없습니다."
   ]
  },
  {
   "cell_type": "markdown",
   "id": "777f94e1",
   "metadata": {},
   "source": [
    "여러 답변을 읽다가 2개의 추천을 받은 글을 발견했습니다."
   ]
  },
  {
   "cell_type": "markdown",
   "id": "916df189",
   "metadata": {},
   "source": [
    "In my case, someone gave me an Excel file ending with extension \".xls\". I tried parsing it with xlrd, and got this error:\n",
    "\n",
    "```xlrd.biffh.XLRDError: Unsupported format, or corrupt file: Expected BOF record; found \"blar blar blar\"```\n",
    "<p>\n",
    "After working some time, I found that .xls file actually is a text file. The sender didn't bother to create a real Excel binary file but just put \".xls\" to a text file.\n",
    "<p>\n",
    "Maybe it's worth opening the file with text editor to make sure it is an Excel file. This could have saved me one hour."
   ]
  },
  {
   "cell_type": "markdown",
   "id": "a2222b72",
   "metadata": {},
   "source": [
    "이 분은 .xls 파일이 사실은 text파일이었다는 것을 발견했다고 합니다."
   ]
  },
  {
   "cell_type": "markdown",
   "id": "0a022348",
   "metadata": {},
   "source": [
    "real Excel binary 파일이 아닌 그냥 .xls로 존재하는 text file이라고 하네요."
   ]
  },
  {
   "cell_type": "markdown",
   "id": "1189d4a1",
   "metadata": {},
   "source": [
    "이 글을 보고나니 위의 11개 추천수를 받은 답변이 눈에 들어오네요."
   ]
  },
  {
   "attachments": {
    "image.png": {
     "image/png": "[encoded data removed]"
    }
   },
   "cell_type": "markdown",
   "id": "918b26f9",
   "metadata": {},
   "source": [
    "![image.png](attachment:image.png)"
   ]
  },
  {
   "cell_type": "markdown",
   "id": "72438fef",
   "metadata": {},
   "source": [
    "따라해봅시다."
   ]
  },
  {
   "cell_type": "code",
   "execution_count": 5,
   "id": "1d85026b",
   "metadata": {},
   "outputs": [],
   "source": [
    "li = pd.read_html('./data/KOBIS_범죄도시지역별_2022-08-16.xls')"
   ]
  },
  {
   "cell_type": "code",
   "execution_count": 6,
   "id": "1d4f216f",
   "metadata": {},
   "outputs": [],
   "source": [
    "df = pd.DataFrame(li[0])"
   ]
  },
  {
   "cell_type": "code",
   "execution_count": 7,
   "id": "9dcf2886",
   "metadata": {},
   "outputs": [
    {
     "data": {
      "text/html": [
       "<div>\n",
       "<style scoped>\n",
       "    .dataframe tbody tr th:only-of-type {\n",
       "        vertical-align: middle;\n",
       "    }\n",
       "\n",
       "    .dataframe tbody tr th {\n",
       "        vertical-align: top;\n",
       "    }\n",
       "\n",
       "    .dataframe thead th {\n",
       "        text-align: right;\n",
       "    }\n",
       "</style>\n",
       "<table border=\"1\" class=\"dataframe\">\n",
       "  <thead>\n",
       "    <tr style=\"text-align: right;\">\n",
       "      <th></th>\n",
       "      <th>0</th>\n",
       "      <th>1</th>\n",
       "      <th>2</th>\n",
       "      <th>3</th>\n",
       "    </tr>\n",
       "  </thead>\n",
       "  <tbody>\n",
       "    <tr>\n",
       "      <th>0</th>\n",
       "      <td>â 'ë²ì£ëì' KOBIS ì§ì­ë³ íµê³ì ë³´</td>\n",
       "      <td>â 'ë²ì£ëì' KOBIS ì§ì­ë³ íµê³ì ë³´</td>\n",
       "      <td>â 'ë²ì£ëì' KOBIS ì§ì­ë³ íµê³ì ë³´</td>\n",
       "      <td>â 'ë²ì£ëì' KOBIS ì§ì­ë³ íµê³ì ë³´</td>\n",
       "    </tr>\n",
       "    <tr>\n",
       "      <th>1</th>\n",
       "      <td>- ì¡°íì¼: 2022-08-16</td>\n",
       "      <td>- ì¡°íì¼: 2022-08-16</td>\n",
       "      <td>- ì¡°íì¼: 2022-08-16</td>\n",
       "      <td>- ì¡°íì¼: 2022-08-16</td>\n",
       "    </tr>\n",
       "    <tr>\n",
       "      <th>2</th>\n",
       "      <td>- ì¶ì²: ìíì§í¥ììí íµí©ì ì°ë§...</td>\n",
       "      <td>- ì¶ì²: ìíì§í¥ììí íµí©ì ì°ë§...</td>\n",
       "      <td>- ì¶ì²: ìíì§í¥ììí íµí©ì ì°ë§...</td>\n",
       "      <td>- ì¶ì²: ìíì§í¥ììí íµí©ì ì°ë§...</td>\n",
       "    </tr>\n",
       "  </tbody>\n",
       "</table>\n",
       "</div>"
      ],
      "text/plain": [
       "                                                   0  \\\n",
       "0     â 'ë²ì£ëì' KOBIS ì§ì­ë³ íµê³ì ë³´   \n",
       "1                            - ì¡°íì¼: 2022-08-16   \n",
       "2  - ì¶ì²: ìíì§í¥ììí íµí©ì ì°ë§...   \n",
       "\n",
       "                                                   1  \\\n",
       "0     â 'ë²ì£ëì' KOBIS ì§ì­ë³ íµê³ì ë³´   \n",
       "1                            - ì¡°íì¼: 2022-08-16   \n",
       "2  - ì¶ì²: ìíì§í¥ììí íµí©ì ì°ë§...   \n",
       "\n",
       "                                                   2  \\\n",
       "0     â 'ë²ì£ëì' KOBIS ì§ì­ë³ íµê³ì ë³´   \n",
       "1                            - ì¡°íì¼: 2022-08-16   \n",
       "2  - ì¶ì²: ìíì§í¥ììí íµí©ì ì°ë§...   \n",
       "\n",
       "                                                   3  \n",
       "0     â 'ë²ì£ëì' KOBIS ì§ì­ë³ íµê³ì ë³´  \n",
       "1                            - ì¡°íì¼: 2022-08-16  \n",
       "2  - ì¶ì²: ìíì§í¥ììí íµí©ì ì°ë§...  "
      ]
     },
     "execution_count": 7,
     "metadata": {},
     "output_type": "execute_result"
    }
   ],
   "source": [
    "df"
   ]
  },
  {
   "cell_type": "markdown",
   "id": "bbff8bdb",
   "metadata": {},
   "source": [
    "뭔가 이상합니다."
   ]
  },
  {
   "cell_type": "code",
   "execution_count": 8,
   "id": "8fb9d8d1",
   "metadata": {},
   "outputs": [],
   "source": [
    "pd.read_html?"
   ]
  },
  {
   "cell_type": "markdown",
   "id": "9da0abd5",
   "metadata": {},
   "source": [
    "encoding : str, optional\n",
    "    The encoding used to decode the web page. Defaults to ``None``.``None``\n",
    "    preserves the previous encoding behavior, which depends on the\n",
    "    underlying parser library (e.g., the parser library will try to use\n",
    "    the encoding provided by the document)."
   ]
  },
  {
   "cell_type": "markdown",
   "id": "53be4024",
   "metadata": {},
   "source": [
    "인코딩 속성을 사용해서 'utf-8'로 읽어보겠습니다."
   ]
  },
  {
   "cell_type": "code",
   "execution_count": 9,
   "id": "aec9ede5",
   "metadata": {},
   "outputs": [
    {
     "data": {
      "text/html": [
       "<div>\n",
       "<style scoped>\n",
       "    .dataframe tbody tr th:only-of-type {\n",
       "        vertical-align: middle;\n",
       "    }\n",
       "\n",
       "    .dataframe tbody tr th {\n",
       "        vertical-align: top;\n",
       "    }\n",
       "\n",
       "    .dataframe thead th {\n",
       "        text-align: right;\n",
       "    }\n",
       "</style>\n",
       "<table border=\"1\" class=\"dataframe\">\n",
       "  <thead>\n",
       "    <tr style=\"text-align: right;\">\n",
       "      <th></th>\n",
       "      <th>0</th>\n",
       "      <th>1</th>\n",
       "      <th>2</th>\n",
       "      <th>3</th>\n",
       "    </tr>\n",
       "  </thead>\n",
       "  <tbody>\n",
       "    <tr>\n",
       "      <th>0</th>\n",
       "      <td>■ '범죄도시' KOBIS 지역별 통계정보</td>\n",
       "      <td>■ '범죄도시' KOBIS 지역별 통계정보</td>\n",
       "      <td>■ '범죄도시' KOBIS 지역별 통계정보</td>\n",
       "      <td>■ '범죄도시' KOBIS 지역별 통계정보</td>\n",
       "    </tr>\n",
       "    <tr>\n",
       "      <th>1</th>\n",
       "      <td>- 조회일: 2022-08-16</td>\n",
       "      <td>- 조회일: 2022-08-16</td>\n",
       "      <td>- 조회일: 2022-08-16</td>\n",
       "      <td>- 조회일: 2022-08-16</td>\n",
       "    </tr>\n",
       "    <tr>\n",
       "      <th>2</th>\n",
       "      <td>- 출처: 영화진흥위원회 통합전산망 (http://www.kobis.or.kr)</td>\n",
       "      <td>- 출처: 영화진흥위원회 통합전산망 (http://www.kobis.or.kr)</td>\n",
       "      <td>- 출처: 영화진흥위원회 통합전산망 (http://www.kobis.or.kr)</td>\n",
       "      <td>- 출처: 영화진흥위원회 통합전산망 (http://www.kobis.or.kr)</td>\n",
       "    </tr>\n",
       "  </tbody>\n",
       "</table>\n",
       "</div>"
      ],
      "text/plain": [
       "                                              0  \\\n",
       "0                       ■ '범죄도시' KOBIS 지역별 통계정보   \n",
       "1                             - 조회일: 2022-08-16   \n",
       "2  - 출처: 영화진흥위원회 통합전산망 (http://www.kobis.or.kr)   \n",
       "\n",
       "                                              1  \\\n",
       "0                       ■ '범죄도시' KOBIS 지역별 통계정보   \n",
       "1                             - 조회일: 2022-08-16   \n",
       "2  - 출처: 영화진흥위원회 통합전산망 (http://www.kobis.or.kr)   \n",
       "\n",
       "                                              2  \\\n",
       "0                       ■ '범죄도시' KOBIS 지역별 통계정보   \n",
       "1                             - 조회일: 2022-08-16   \n",
       "2  - 출처: 영화진흥위원회 통합전산망 (http://www.kobis.or.kr)   \n",
       "\n",
       "                                              3  \n",
       "0                       ■ '범죄도시' KOBIS 지역별 통계정보  \n",
       "1                             - 조회일: 2022-08-16  \n",
       "2  - 출처: 영화진흥위원회 통합전산망 (http://www.kobis.or.kr)  "
      ]
     },
     "execution_count": 9,
     "metadata": {},
     "output_type": "execute_result"
    }
   ],
   "source": [
    "li = pd.read_html('./data/KOBIS_범죄도시지역별_2022-08-16.xls', encoding='utf-8')\n",
    "df = pd.DataFrame(li[0])\n",
    "df"
   ]
  },
  {
   "cell_type": "markdown",
   "id": "954a540b",
   "metadata": {},
   "source": [
    "이번에는 잘 읽히네요.<br>\n",
    "하지만 원하는 정보가 아닙니다."
   ]
  },
  {
   "cell_type": "code",
   "execution_count": 10,
   "id": "9f1f471e",
   "metadata": {},
   "outputs": [
    {
     "data": {
      "text/plain": [
       "[                                              0  \\\n",
       " 0                       ■ '범죄도시' KOBIS 지역별 통계정보   \n",
       " 1                             - 조회일: 2022-08-16   \n",
       " 2  - 출처: 영화진흥위원회 통합전산망 (http://www.kobis.or.kr)   \n",
       " \n",
       "                                               1  \\\n",
       " 0                       ■ '범죄도시' KOBIS 지역별 통계정보   \n",
       " 1                             - 조회일: 2022-08-16   \n",
       " 2  - 출처: 영화진흥위원회 통합전산망 (http://www.kobis.or.kr)   \n",
       " \n",
       "                                               2  \\\n",
       " 0                       ■ '범죄도시' KOBIS 지역별 통계정보   \n",
       " 1                             - 조회일: 2022-08-16   \n",
       " 2  - 출처: 영화진흥위원회 통합전산망 (http://www.kobis.or.kr)   \n",
       " \n",
       "                                               3  \n",
       " 0                       ■ '범죄도시' KOBIS 지역별 통계정보  \n",
       " 1                             - 조회일: 2022-08-16  \n",
       " 2  - 출처: 영화진흥위원회 통합전산망 (http://www.kobis.or.kr)  ,\n",
       "       지역  스크린수              누적매출액(점유율)         누적관객수(점유율)\n",
       " 0    서울시   252  14,205,532,449 (25.2%)  1,689,104 (24.5%)\n",
       " 1    경기도   326  13,337,118,300 (23.7%)  1,621,623 (23.6%)\n",
       " 2    강원도    56    1,358,383,200 (2.4%)     177,667 (2.6%)\n",
       " 3   충청북도    32    1,454,685,500 (2.6%)     182,534 (2.7%)\n",
       " 4   충청남도    49    1,805,677,200 (3.2%)     226,120 (3.3%)\n",
       " 5   경상북도    57    2,001,687,500 (3.6%)     248,233 (3.6%)\n",
       " 6   경상남도    72    2,923,019,200 (5.2%)     368,475 (5.4%)\n",
       " 7   전라북도    50    1,504,489,700 (2.7%)     190,727 (2.8%)\n",
       " 8   전라남도    39    1,033,174,800 (1.8%)     141,114 (2.1%)\n",
       " 9    제주도    17      583,694,000 (1.0%)      71,099 (1.0%)\n",
       " 10   부산시   103    4,498,467,200 (8.0%)     549,061 (8.0%)\n",
       " 11   대구시    80    3,295,743,900 (5.9%)     392,101 (5.7%)\n",
       " 12   대전시    26    1,883,137,300 (3.3%)     228,795 (3.3%)\n",
       " 13   울산시    16    1,170,184,700 (2.1%)     143,374 (2.1%)\n",
       " 14   인천시    82    3,152,010,800 (5.6%)     381,218 (5.5%)\n",
       " 15   광주시    52    1,905,671,100 (3.4%)     242,524 (3.5%)\n",
       " 16   세종시     6      209,476,500 (0.4%)      26,777 (0.4%)\n",
       " 17    전국  1315   56,322,153,349 (100%)   6,880,546 (100%)]"
      ]
     },
     "execution_count": 10,
     "metadata": {},
     "output_type": "execute_result"
    }
   ],
   "source": [
    "li"
   ]
  },
  {
   "cell_type": "markdown",
   "id": "01cae9d8",
   "metadata": {},
   "source": [
    "0번 째에는 파일에 대한 정보, 1번 째에는 원하는 정보가 담겨있네요"
   ]
  },
  {
   "cell_type": "code",
   "execution_count": 11,
   "id": "c0197c83",
   "metadata": {},
   "outputs": [
    {
     "data": {
      "text/html": [
       "<div>\n",
       "<style scoped>\n",
       "    .dataframe tbody tr th:only-of-type {\n",
       "        vertical-align: middle;\n",
       "    }\n",
       "\n",
       "    .dataframe tbody tr th {\n",
       "        vertical-align: top;\n",
       "    }\n",
       "\n",
       "    .dataframe thead th {\n",
       "        text-align: right;\n",
       "    }\n",
       "</style>\n",
       "<table border=\"1\" class=\"dataframe\">\n",
       "  <thead>\n",
       "    <tr style=\"text-align: right;\">\n",
       "      <th></th>\n",
       "      <th>지역</th>\n",
       "      <th>스크린수</th>\n",
       "      <th>누적매출액(점유율)</th>\n",
       "      <th>누적관객수(점유율)</th>\n",
       "    </tr>\n",
       "  </thead>\n",
       "  <tbody>\n",
       "    <tr>\n",
       "      <th>0</th>\n",
       "      <td>서울시</td>\n",
       "      <td>252</td>\n",
       "      <td>14,205,532,449 (25.2%)</td>\n",
       "      <td>1,689,104 (24.5%)</td>\n",
       "    </tr>\n",
       "    <tr>\n",
       "      <th>1</th>\n",
       "      <td>경기도</td>\n",
       "      <td>326</td>\n",
       "      <td>13,337,118,300 (23.7%)</td>\n",
       "      <td>1,621,623 (23.6%)</td>\n",
       "    </tr>\n",
       "    <tr>\n",
       "      <th>2</th>\n",
       "      <td>강원도</td>\n",
       "      <td>56</td>\n",
       "      <td>1,358,383,200 (2.4%)</td>\n",
       "      <td>177,667 (2.6%)</td>\n",
       "    </tr>\n",
       "    <tr>\n",
       "      <th>3</th>\n",
       "      <td>충청북도</td>\n",
       "      <td>32</td>\n",
       "      <td>1,454,685,500 (2.6%)</td>\n",
       "      <td>182,534 (2.7%)</td>\n",
       "    </tr>\n",
       "    <tr>\n",
       "      <th>4</th>\n",
       "      <td>충청남도</td>\n",
       "      <td>49</td>\n",
       "      <td>1,805,677,200 (3.2%)</td>\n",
       "      <td>226,120 (3.3%)</td>\n",
       "    </tr>\n",
       "    <tr>\n",
       "      <th>5</th>\n",
       "      <td>경상북도</td>\n",
       "      <td>57</td>\n",
       "      <td>2,001,687,500 (3.6%)</td>\n",
       "      <td>248,233 (3.6%)</td>\n",
       "    </tr>\n",
       "    <tr>\n",
       "      <th>6</th>\n",
       "      <td>경상남도</td>\n",
       "      <td>72</td>\n",
       "      <td>2,923,019,200 (5.2%)</td>\n",
       "      <td>368,475 (5.4%)</td>\n",
       "    </tr>\n",
       "    <tr>\n",
       "      <th>7</th>\n",
       "      <td>전라북도</td>\n",
       "      <td>50</td>\n",
       "      <td>1,504,489,700 (2.7%)</td>\n",
       "      <td>190,727 (2.8%)</td>\n",
       "    </tr>\n",
       "    <tr>\n",
       "      <th>8</th>\n",
       "      <td>전라남도</td>\n",
       "      <td>39</td>\n",
       "      <td>1,033,174,800 (1.8%)</td>\n",
       "      <td>141,114 (2.1%)</td>\n",
       "    </tr>\n",
       "    <tr>\n",
       "      <th>9</th>\n",
       "      <td>제주도</td>\n",
       "      <td>17</td>\n",
       "      <td>583,694,000 (1.0%)</td>\n",
       "      <td>71,099 (1.0%)</td>\n",
       "    </tr>\n",
       "    <tr>\n",
       "      <th>10</th>\n",
       "      <td>부산시</td>\n",
       "      <td>103</td>\n",
       "      <td>4,498,467,200 (8.0%)</td>\n",
       "      <td>549,061 (8.0%)</td>\n",
       "    </tr>\n",
       "    <tr>\n",
       "      <th>11</th>\n",
       "      <td>대구시</td>\n",
       "      <td>80</td>\n",
       "      <td>3,295,743,900 (5.9%)</td>\n",
       "      <td>392,101 (5.7%)</td>\n",
       "    </tr>\n",
       "    <tr>\n",
       "      <th>12</th>\n",
       "      <td>대전시</td>\n",
       "      <td>26</td>\n",
       "      <td>1,883,137,300 (3.3%)</td>\n",
       "      <td>228,795 (3.3%)</td>\n",
       "    </tr>\n",
       "    <tr>\n",
       "      <th>13</th>\n",
       "      <td>울산시</td>\n",
       "      <td>16</td>\n",
       "      <td>1,170,184,700 (2.1%)</td>\n",
       "      <td>143,374 (2.1%)</td>\n",
       "    </tr>\n",
       "    <tr>\n",
       "      <th>14</th>\n",
       "      <td>인천시</td>\n",
       "      <td>82</td>\n",
       "      <td>3,152,010,800 (5.6%)</td>\n",
       "      <td>381,218 (5.5%)</td>\n",
       "    </tr>\n",
       "    <tr>\n",
       "      <th>15</th>\n",
       "      <td>광주시</td>\n",
       "      <td>52</td>\n",
       "      <td>1,905,671,100 (3.4%)</td>\n",
       "      <td>242,524 (3.5%)</td>\n",
       "    </tr>\n",
       "    <tr>\n",
       "      <th>16</th>\n",
       "      <td>세종시</td>\n",
       "      <td>6</td>\n",
       "      <td>209,476,500 (0.4%)</td>\n",
       "      <td>26,777 (0.4%)</td>\n",
       "    </tr>\n",
       "    <tr>\n",
       "      <th>17</th>\n",
       "      <td>전국</td>\n",
       "      <td>1315</td>\n",
       "      <td>56,322,153,349 (100%)</td>\n",
       "      <td>6,880,546 (100%)</td>\n",
       "    </tr>\n",
       "  </tbody>\n",
       "</table>\n",
       "</div>"
      ],
      "text/plain": [
       "      지역  스크린수              누적매출액(점유율)         누적관객수(점유율)\n",
       "0    서울시   252  14,205,532,449 (25.2%)  1,689,104 (24.5%)\n",
       "1    경기도   326  13,337,118,300 (23.7%)  1,621,623 (23.6%)\n",
       "2    강원도    56    1,358,383,200 (2.4%)     177,667 (2.6%)\n",
       "3   충청북도    32    1,454,685,500 (2.6%)     182,534 (2.7%)\n",
       "4   충청남도    49    1,805,677,200 (3.2%)     226,120 (3.3%)\n",
       "5   경상북도    57    2,001,687,500 (3.6%)     248,233 (3.6%)\n",
       "6   경상남도    72    2,923,019,200 (5.2%)     368,475 (5.4%)\n",
       "7   전라북도    50    1,504,489,700 (2.7%)     190,727 (2.8%)\n",
       "8   전라남도    39    1,033,174,800 (1.8%)     141,114 (2.1%)\n",
       "9    제주도    17      583,694,000 (1.0%)      71,099 (1.0%)\n",
       "10   부산시   103    4,498,467,200 (8.0%)     549,061 (8.0%)\n",
       "11   대구시    80    3,295,743,900 (5.9%)     392,101 (5.7%)\n",
       "12   대전시    26    1,883,137,300 (3.3%)     228,795 (3.3%)\n",
       "13   울산시    16    1,170,184,700 (2.1%)     143,374 (2.1%)\n",
       "14   인천시    82    3,152,010,800 (5.6%)     381,218 (5.5%)\n",
       "15   광주시    52    1,905,671,100 (3.4%)     242,524 (3.5%)\n",
       "16   세종시     6      209,476,500 (0.4%)      26,777 (0.4%)\n",
       "17    전국  1315   56,322,153,349 (100%)   6,880,546 (100%)"
      ]
     },
     "execution_count": 11,
     "metadata": {},
     "output_type": "execute_result"
    }
   ],
   "source": [
    "li = pd.read_html('./data/KOBIS_범죄도시지역별_2022-08-16.xls', encoding='utf-8')\n",
    "li[1]"
   ]
  },
  {
   "cell_type": "markdown",
   "id": "779c305b",
   "metadata": {},
   "source": [
    "완성입니다 :)"
   ]
  }
 ],
 "metadata": {
  "hide_input": false,
  "kernelspec": {
   "display_name": "datastory",
   "language": "python",
   "name": "datastory"
  },
  "language_info": {
   "codemirror_mode": {
    "name": "ipython",
    "version": 3
   },
   "file_extension": ".py",
   "mimetype": "text/x-python",
   "name": "python",
   "nbconvert_exporter": "python",
   "pygments_lexer": "ipython3",
   "version": "3.9.7"
  }
 },
 "nbformat": 4,
 "nbformat_minor": 5
}
