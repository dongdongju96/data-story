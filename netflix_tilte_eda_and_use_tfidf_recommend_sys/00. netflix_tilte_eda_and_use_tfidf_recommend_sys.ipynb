{
 "cells": [
  {
   "cell_type": "markdown",
   "id": "comic-north",
   "metadata": {},
   "source": [
    "# 넷플릭스 타이틀 EDA 및 추천시스템 만들기"
   ]
  },
  {
   "cell_type": "markdown",
   "id": "secondary-nicaragua",
   "metadata": {},
   "source": [
    "kaggle에 있는 Netflix Movies and TV Shows 데이터 중에서<br>\n",
    "한국 콘텐츠를 EDA (Exploratory Data Analysis) 해보겠습니다."
   ]
  },
  {
   "cell_type": "markdown",
   "id": "senior-fifty",
   "metadata": {},
   "source": [
    "## 필요 라이브러리 불러오기"
   ]
  },
  {
   "cell_type": "code",
   "execution_count": 1,
   "id": "brutal-webmaster",
   "metadata": {},
   "outputs": [],
   "source": [
    "import pandas as pd\n",
    "import seaborn as sns\n",
    "import matplotlib.pyplot as plt\n",
    "from datetime import datetime"
   ]
  },
  {
   "cell_type": "markdown",
   "id": "silver-utility",
   "metadata": {},
   "source": [
    "## 데이터 확인"
   ]
  },
  {
   "cell_type": "markdown",
   "id": "satisfied-pleasure",
   "metadata": {},
   "source": [
    "8807행 12열을 가지는 데이터프레임입니다.<br>\n",
    "중간중간 Null 값도 보입니다."
   ]
  },
  {
   "cell_type": "code",
   "execution_count": 2,
   "id": "express-access",
   "metadata": {},
   "outputs": [
    {
     "data": {
      "text/html": [
       "<div>\n",
       "<style scoped>\n",
       "    .dataframe tbody tr th:only-of-type {\n",
       "        vertical-align: middle;\n",
       "    }\n",
       "\n",
       "    .dataframe tbody tr th {\n",
       "        vertical-align: top;\n",
       "    }\n",
       "\n",
       "    .dataframe thead th {\n",
       "        text-align: right;\n",
       "    }\n",
       "</style>\n",
       "<table border=\"1\" class=\"dataframe\">\n",
       "  <thead>\n",
       "    <tr style=\"text-align: right;\">\n",
       "      <th></th>\n",
       "      <th>show_id</th>\n",
       "      <th>type</th>\n",
       "      <th>title</th>\n",
       "      <th>director</th>\n",
       "      <th>cast</th>\n",
       "      <th>country</th>\n",
       "      <th>date_added</th>\n",
       "      <th>release_year</th>\n",
       "      <th>rating</th>\n",
       "      <th>duration</th>\n",
       "      <th>listed_in</th>\n",
       "      <th>description</th>\n",
       "    </tr>\n",
       "  </thead>\n",
       "  <tbody>\n",
       "    <tr>\n",
       "      <th>0</th>\n",
       "      <td>s1</td>\n",
       "      <td>Movie</td>\n",
       "      <td>Dick Johnson Is Dead</td>\n",
       "      <td>Kirsten Johnson</td>\n",
       "      <td>NaN</td>\n",
       "      <td>United States</td>\n",
       "      <td>September 25, 2021</td>\n",
       "      <td>2020</td>\n",
       "      <td>PG-13</td>\n",
       "      <td>90 min</td>\n",
       "      <td>Documentaries</td>\n",
       "      <td>As her father nears the end of his life, filmm...</td>\n",
       "    </tr>\n",
       "    <tr>\n",
       "      <th>1</th>\n",
       "      <td>s2</td>\n",
       "      <td>TV Show</td>\n",
       "      <td>Blood &amp; Water</td>\n",
       "      <td>NaN</td>\n",
       "      <td>Ama Qamata, Khosi Ngema, Gail Mabalane, Thaban...</td>\n",
       "      <td>South Africa</td>\n",
       "      <td>September 24, 2021</td>\n",
       "      <td>2021</td>\n",
       "      <td>TV-MA</td>\n",
       "      <td>2 Seasons</td>\n",
       "      <td>International TV Shows, TV Dramas, TV Mysteries</td>\n",
       "      <td>After crossing paths at a party, a Cape Town t...</td>\n",
       "    </tr>\n",
       "    <tr>\n",
       "      <th>2</th>\n",
       "      <td>s3</td>\n",
       "      <td>TV Show</td>\n",
       "      <td>Ganglands</td>\n",
       "      <td>Julien Leclercq</td>\n",
       "      <td>Sami Bouajila, Tracy Gotoas, Samuel Jouy, Nabi...</td>\n",
       "      <td>NaN</td>\n",
       "      <td>September 24, 2021</td>\n",
       "      <td>2021</td>\n",
       "      <td>TV-MA</td>\n",
       "      <td>1 Season</td>\n",
       "      <td>Crime TV Shows, International TV Shows, TV Act...</td>\n",
       "      <td>To protect his family from a powerful drug lor...</td>\n",
       "    </tr>\n",
       "    <tr>\n",
       "      <th>3</th>\n",
       "      <td>s4</td>\n",
       "      <td>TV Show</td>\n",
       "      <td>Jailbirds New Orleans</td>\n",
       "      <td>NaN</td>\n",
       "      <td>NaN</td>\n",
       "      <td>NaN</td>\n",
       "      <td>September 24, 2021</td>\n",
       "      <td>2021</td>\n",
       "      <td>TV-MA</td>\n",
       "      <td>1 Season</td>\n",
       "      <td>Docuseries, Reality TV</td>\n",
       "      <td>Feuds, flirtations and toilet talk go down amo...</td>\n",
       "    </tr>\n",
       "    <tr>\n",
       "      <th>4</th>\n",
       "      <td>s5</td>\n",
       "      <td>TV Show</td>\n",
       "      <td>Kota Factory</td>\n",
       "      <td>NaN</td>\n",
       "      <td>Mayur More, Jitendra Kumar, Ranjan Raj, Alam K...</td>\n",
       "      <td>India</td>\n",
       "      <td>September 24, 2021</td>\n",
       "      <td>2021</td>\n",
       "      <td>TV-MA</td>\n",
       "      <td>2 Seasons</td>\n",
       "      <td>International TV Shows, Romantic TV Shows, TV ...</td>\n",
       "      <td>In a city of coaching centers known to train I...</td>\n",
       "    </tr>\n",
       "  </tbody>\n",
       "</table>\n",
       "</div>"
      ],
      "text/plain": [
       "  show_id     type                  title         director  \\\n",
       "0      s1    Movie   Dick Johnson Is Dead  Kirsten Johnson   \n",
       "1      s2  TV Show          Blood & Water              NaN   \n",
       "2      s3  TV Show              Ganglands  Julien Leclercq   \n",
       "3      s4  TV Show  Jailbirds New Orleans              NaN   \n",
       "4      s5  TV Show           Kota Factory              NaN   \n",
       "\n",
       "                                                cast        country  \\\n",
       "0                                                NaN  United States   \n",
       "1  Ama Qamata, Khosi Ngema, Gail Mabalane, Thaban...   South Africa   \n",
       "2  Sami Bouajila, Tracy Gotoas, Samuel Jouy, Nabi...            NaN   \n",
       "3                                                NaN            NaN   \n",
       "4  Mayur More, Jitendra Kumar, Ranjan Raj, Alam K...          India   \n",
       "\n",
       "           date_added  release_year rating   duration  \\\n",
       "0  September 25, 2021          2020  PG-13     90 min   \n",
       "1  September 24, 2021          2021  TV-MA  2 Seasons   \n",
       "2  September 24, 2021          2021  TV-MA   1 Season   \n",
       "3  September 24, 2021          2021  TV-MA   1 Season   \n",
       "4  September 24, 2021          2021  TV-MA  2 Seasons   \n",
       "\n",
       "                                           listed_in  \\\n",
       "0                                      Documentaries   \n",
       "1    International TV Shows, TV Dramas, TV Mysteries   \n",
       "2  Crime TV Shows, International TV Shows, TV Act...   \n",
       "3                             Docuseries, Reality TV   \n",
       "4  International TV Shows, Romantic TV Shows, TV ...   \n",
       "\n",
       "                                         description  \n",
       "0  As her father nears the end of his life, filmm...  \n",
       "1  After crossing paths at a party, a Cape Town t...  \n",
       "2  To protect his family from a powerful drug lor...  \n",
       "3  Feuds, flirtations and toilet talk go down amo...  \n",
       "4  In a city of coaching centers known to train I...  "
      ]
     },
     "metadata": {},
     "output_type": "display_data"
    },
    {
     "name": "stdout",
     "output_type": "stream",
     "text": [
      "<class 'pandas.core.frame.DataFrame'>\n",
      "RangeIndex: 8807 entries, 0 to 8806\n",
      "Data columns (total 12 columns):\n",
      " #   Column        Non-Null Count  Dtype \n",
      "---  ------        --------------  ----- \n",
      " 0   show_id       8807 non-null   object\n",
      " 1   type          8807 non-null   object\n",
      " 2   title         8807 non-null   object\n",
      " 3   director      6173 non-null   object\n",
      " 4   cast          7982 non-null   object\n",
      " 5   country       7976 non-null   object\n",
      " 6   date_added    8797 non-null   object\n",
      " 7   release_year  8807 non-null   int64 \n",
      " 8   rating        8803 non-null   object\n",
      " 9   duration      8804 non-null   object\n",
      " 10  listed_in     8807 non-null   object\n",
      " 11  description   8807 non-null   object\n",
      "dtypes: int64(1), object(11)\n",
      "memory usage: 825.8+ KB\n",
      "None\n"
     ]
    }
   ],
   "source": [
    "# read_csv 함수로 csv 파일 읽기\n",
    "raw_df = pd.read_csv('./netflix_titles.csv')\n",
    "display(raw_df.head())\n",
    "print(raw_df.info())"
   ]
  },
  {
   "cell_type": "markdown",
   "id": "czech-courtesy",
   "metadata": {},
   "source": [
    "나라별 contents 갯수를 count해서 contents 개수 상위 10개 나라를 뽑아보겠습니다."
   ]
  },
  {
   "cell_type": "code",
   "execution_count": 3,
   "id": "surprised-effect",
   "metadata": {},
   "outputs": [
    {
     "data": {
      "text/plain": [
       "country\n",
       "United States     2818\n",
       "India              972\n",
       "United Kingdom     419\n",
       "Japan              245\n",
       "South Korea        199\n",
       "Canada             181\n",
       "Spain              145\n",
       "France             124\n",
       "Mexico             110\n",
       "Name: show_id, dtype: int64"
      ]
     },
     "execution_count": 3,
     "metadata": {},
     "output_type": "execute_result"
    }
   ],
   "source": [
    "# groupby함수로 country를 묶고 집계함수 count()사용. show_id 열만 가져오고 내림차순으로 10개 추출\n",
    "raw_df.groupby('country').count()['show_id'].sort_values(ascending=False)[:9]"
   ]
  },
  {
   "cell_type": "markdown",
   "id": "bright-entertainment",
   "metadata": {},
   "source": [
    "한국은 199개로 5번째로 넷플릭스 contents가 많은 나라입니다."
   ]
  },
  {
   "cell_type": "markdown",
   "id": "voluntary-insurance",
   "metadata": {},
   "source": [
    "## 데이터 전처리"
   ]
  },
  {
   "cell_type": "markdown",
   "id": "useful-harris",
   "metadata": {},
   "source": [
    "date_added는 넷플릭스에 추가된 날짜를 의미합니다.<br>\n",
    "현재 문자열로 저장되어있는데 날짜형으로 바꾸도록 하겠습니다."
   ]
  },
  {
   "cell_type": "markdown",
   "id": "grand-skill",
   "metadata": {},
   "source": [
    "현재 date_added에 있는 데이터가 형태가 일치 하지 않습니다.<br>\n",
    "예를 들어 'September 25, 2021' 또는 ' September 25, 2021' 등으로 있습니다.<br>\n",
    "이 경우 날짜형으로 변경시 format이 맞지 않기때문에 모든 공백을 제거하겠습니다."
   ]
  },
  {
   "cell_type": "code",
   "execution_count": 7,
   "id": "hearing-calvin",
   "metadata": {},
   "outputs": [
    {
     "data": {
      "text/plain": [
       "0    September25,2021\n",
       "1    September24,2021\n",
       "2    September24,2021\n",
       "3    September24,2021\n",
       "4    September24,2021\n",
       "Name: date_added, dtype: object"
      ]
     },
     "execution_count": 7,
     "metadata": {},
     "output_type": "execute_result"
    }
   ],
   "source": [
    "raw_df['date_added'][:5]"
   ]
  },
  {
   "cell_type": "code",
   "execution_count": 8,
   "id": "accomplished-nelson",
   "metadata": {},
   "outputs": [],
   "source": [
    "# 날짜 형식 통일을 위해 공백 제거\n",
    "raw_df['date_added'] = raw_df['date_added'].str.replace(' ','')\n",
    "raw_df['date_added'] = pd.to_datetime(raw_df['date_added'], format='%B%d,%Y')"
   ]
  },
  {
   "cell_type": "code",
   "execution_count": 10,
   "id": "peaceful-julian",
   "metadata": {},
   "outputs": [
    {
     "data": {
      "text/plain": [
       "0   2021-09-25\n",
       "1   2021-09-24\n",
       "2   2021-09-24\n",
       "3   2021-09-24\n",
       "4   2021-09-24\n",
       "Name: date_added, dtype: datetime64[ns]"
      ]
     },
     "execution_count": 10,
     "metadata": {},
     "output_type": "execute_result"
    }
   ],
   "source": [
    "raw_df['date_added'][:5]"
   ]
  },
  {
   "cell_type": "markdown",
   "id": "aggressive-curtis",
   "metadata": {},
   "source": [
    "위의 데이터프레임으로 한국만 따로 추출하여 새로운 데이터프레임을 만들겠습니다."
   ]
  },
  {
   "cell_type": "code",
   "execution_count": 11,
   "id": "processed-improvement",
   "metadata": {},
   "outputs": [
    {
     "name": "stdout",
     "output_type": "stream",
     "text": [
      "한국 contents 개수 :199\n"
     ]
    }
   ],
   "source": [
    "# raw_df.country.unique()로 확인해보면\n",
    "#한국은 South Korea로 되어있습니다.\n",
    "korea_df = raw_df.query('country==\"South Korea\"')\n",
    "print(f'한국 contents 개수 :{len(korea_df)}')"
   ]
  },
  {
   "cell_type": "code",
   "execution_count": 69,
   "id": "hawaiian-prompt",
   "metadata": {},
   "outputs": [
    {
     "data": {
      "text/plain": [
       "array(['Tayo the Little Bus', 'Pororo - The Little Penguin',\n",
       "       'The Crowned Clown', 'Her Private Life', 'YooHoo to the Rescue',\n",
       "       'The 8th Night', 'Hospital Playlist',\n",
       "       'Love (ft. Marriage and Divorce)', 'Sweet & Sour',\n",
       "       'Move to Heaven', 'Mine', 'Love Naggers', 'Law School', 'Signal',\n",
       "       'Night in Paradise', 'Robocar Poli', 'Men on a Mission',\n",
       "       'Navillera', 'Love Alarm', 'Vincenzo', 'Hello, Me!', 'Sisyphus',\n",
       "       'Space Sweepers', 'Busted!', 'Wish You',\n",
       "       'What Happened to Mr. Cha?', 'A Love So Beautiful',\n",
       "       'Lovestruck in the City', 'Run On', '100 Days My Prince',\n",
       "       'The Guest', 'The Uncanny Counter', 'The Call',\n",
       "       'Strongest Deliveryman', 'Graceful Friends', 'The Good Detective',\n",
       "       'Voice', 'Start-Up', 'Do Do Sol Sol La La Sol', 'Private Lives',\n",
       "       'Familiar Wife', 'The School Nurse Files', '#Alive',\n",
       "       'Record of Youth', 'Goedam', 'Stranger', 'The Larva Island Movie',\n",
       "       'Was It Love?', 'Twogether', \"It's Okay to Not Be Okay\",\n",
       "       'My Mister', 'The Witch: Part 1 - The Subversion',\n",
       "       'Dear My Friends', 'My Shy Boss', 'Revolutionary Love',\n",
       "       'Mystic Pop-up Bar', 'Boys Over Flowers', 'Iris',\n",
       "       'Strangers from Hell', 'Extracurricular', 'My Secret Romance',\n",
       "       'Time to Hunt', 'The King: Eternal Monarch', 'Rugal',\n",
       "       'Hi Bye, Mama!', 'Hyena', 'Itaewon Class',\n",
       "       'Because This Is My First Life', 'Live Up To Your Name',\n",
       "       'Reply 1988', 'Save Me', 'The Bride of Habaek', 'Robot Trains',\n",
       "       'Cinderella and the Four Knights', 'Crash Landing on You',\n",
       "       'Chocolate', 'Inheritors', 'My Sassy Girl', 'Chief of Staff',\n",
       "       'Tune in for Love', 'Bring It On, Ghost', 'Tomorrow with You',\n",
       "       'Another Miss Oh', 'Park Na-rae: Glamour Warning', 'Second 20s',\n",
       "       'The Lies Within', 'My Country: The New Age', 'Cheese in the Trap',\n",
       "       'Chicago Typewriter', 'Miniforce X', 'The K2',\n",
       "       'The Liar and His Lover', 'Vagabond', 'When the Camellia Blooms',\n",
       "       'Bad Guys', 'Let’s Eat', 'Misaeng', 'Oh My Ghost', 'Reply 1994',\n",
       "       'Reply 1997', 'My First First Love',\n",
       "       'Rookie Historian Goo Hae-Ryung', 'One Spring Night',\n",
       "       'Designated Survivor: 60 Days', 'Arthdal Chronicles',\n",
       "       'Svaha: The Sixth Finger', 'Abyss', 'Jo Pil-ho: The Dawning Rage',\n",
       "       'Persona', 'Possessed', 'That Winter, the Wind Blows',\n",
       "       'A Korean Odyssey', 'The Drug King', 'Live',\n",
       "       'Romance is a bonus book', 'High Society', 'Revenger',\n",
       "       'Hymn of Death', 'The Sound of Your Heart: Reboot',\n",
       "       'Memories of the Alhambra', 'Illang: The Wolf Brigade',\n",
       "       'YG Future Strategy Office', 'Life',\n",
       "       'Yoo Byung Jae: Discomfort Zone', 'Mr. Sunshine',\n",
       "       'Something in the Rain', 'Psychokinesis', 'Steel Rain',\n",
       "       'Bad Guys: Vile City', '반드시 잡는다', 'Forgotten', 'The Bros',\n",
       "       'Prison Playbook', 'The Reservoir Game', 'Hello, My Twenties!',\n",
       "       'Argon', '26 Years', 'Entangled', '28 Moons', 'Magic Phone',\n",
       "       'Man to Man', 'My Little Baby', 'Under the Black Moonlight',\n",
       "       'My Only Love Song', 'Lucid Dream', 'Jumping Girl', 'President',\n",
       "       'What in the World Happened?', 'The Miracle', 'Pandora',\n",
       "       'One More Time', 'Tong: Memories', 'The Sound of Your Heart',\n",
       "       'Love for Ten: Generation of Youth', 'Nightmare High', 'Spark',\n",
       "       'White Nights', 'My Runway', 'Color of Woman', 'Goodbye My Wife',\n",
       "       'Happy And', \"Heaven's Garden\", 'Immortal Classic',\n",
       "       'K-POP Extreme Survival', 'Miss Panda & Mr. Hedgehog',\n",
       "       '12 Years Promise', '2015 Dream Concert', 'A Man Called God',\n",
       "       'Abnormal Summit', 'Asura: The City of Madness', 'Beating Again',\n",
       "       'Cain and Abel', 'Can We Get Married?', 'Chef & My Fridge',\n",
       "       'Flowering Heart', 'Hidden Singer', '마녀사냥', 'Last', 'Love Rain',\n",
       "       'Master', 'Memoir of a Murderer', 'Momo Salon',\n",
       "       'Operation Chromite', 'Operation Proposal', 'Rampant',\n",
       "       'Secret Affair', 'Stone Age', 'Strong Girl Bong-soon', 'Suits',\n",
       "       'The Age of Shadows', 'The Cravings', 'The Great Battle',\n",
       "       'The Lady in Dignity', 'The Mayor', \"The President's Barber\",\n",
       "       'The Prison', 'This Is My Love', 'Train to Busan', 'Vroomiz'],\n",
       "      dtype=object)"
      ]
     },
     "execution_count": 69,
     "metadata": {},
     "output_type": "execute_result"
    }
   ],
   "source": [
    "korea_df['title'].unique()"
   ]
  },
  {
   "cell_type": "markdown",
   "id": "functional-digest",
   "metadata": {},
   "source": [
    "한국 content의 type 분포는 다음과 같습니다."
   ]
  },
  {
   "cell_type": "code",
   "execution_count": 12,
   "id": "regional-reverse",
   "metadata": {},
   "outputs": [
    {
     "data": {
      "image/png": "[encoded data removed]",
      "text/plain": [
       "<Figure size 720x360 with 1 Axes>"
      ]
     },
     "metadata": {
      "needs_background": "light"
     },
     "output_type": "display_data"
    }
   ],
   "source": [
    "plt.figure(figsize=(10,5))\n",
    "fig = sns.countplot(x='type',data=korea_df)"
   ]
  },
  {
   "cell_type": "markdown",
   "id": "wrapped-power",
   "metadata": {},
   "source": [
    "## 넷플릭스 한국 영화 시간 분포 확인"
   ]
  },
  {
   "cell_type": "code",
   "execution_count": 24,
   "id": "adequate-belief",
   "metadata": {},
   "outputs": [
    {
     "name": "stderr",
     "output_type": "stream",
     "text": [
      "<ipython-input-24-2df02826fa1b>:2: SettingWithCopyWarning: \n",
      "A value is trying to be set on a copy of a slice from a DataFrame.\n",
      "Try using .loc[row_indexer,col_indexer] = value instead\n",
      "\n",
      "See the caveats in the documentation: https://pandas.pydata.org/pandas-docs/stable/user_guide/indexing.html#returning-a-view-versus-a-copy\n",
      "  korea_movie_df['duration'] = korea_movie_df['duration'].str.replace(' min','')\n",
      "<ipython-input-24-2df02826fa1b>:3: SettingWithCopyWarning: \n",
      "A value is trying to be set on a copy of a slice from a DataFrame.\n",
      "Try using .loc[row_indexer,col_indexer] = value instead\n",
      "\n",
      "See the caveats in the documentation: https://pandas.pydata.org/pandas-docs/stable/user_guide/indexing.html#returning-a-view-versus-a-copy\n",
      "  korea_movie_df['duration'] = korea_movie_df['duration'].astype(int)\n"
     ]
    }
   ],
   "source": [
    "korea_movie_df = korea_df.query('type==\"Movie\"')\n",
    "korea_movie_df['duration'] = korea_movie_df['duration'].str.replace(' min','')\n",
    "korea_movie_df['duration'] = korea_movie_df['duration'].astype(int)"
   ]
  },
  {
   "cell_type": "code",
   "execution_count": 25,
   "id": "respective-yemen",
   "metadata": {
    "scrolled": true,
    "tags": []
   },
   "outputs": [
    {
     "data": {
      "text/plain": [
       "<AxesSubplot:xlabel='duration', ylabel='Density'>"
      ]
     },
     "execution_count": 25,
     "metadata": {},
     "output_type": "execute_result"
    },
    {
     "data": {
      "image/png": "[encoded data removed]",
      "text/plain": [
       "<Figure size 432x288 with 1 Axes>"
      ]
     },
     "metadata": {
      "needs_background": "light"
     },
     "output_type": "display_data"
    }
   ],
   "source": [
    "sns.kdeplot(data=korea_movie_df['duration'], shade=True)"
   ]
  },
  {
   "cell_type": "markdown",
   "id": "architectural-wages",
   "metadata": {},
   "source": [
    "## content 기반 추천 시스템"
   ]
  },
  {
   "cell_type": "markdown",
   "id": "backed-wright",
   "metadata": {},
   "source": [
    "TF-IDF를 이용한 넷플릭스 추천 시스템을 만들어보겠습니다."
   ]
  },
  {
   "cell_type": "code",
   "execution_count": 43,
   "id": "assumed-hawaii",
   "metadata": {
    "scrolled": true
   },
   "outputs": [],
   "source": [
    "from sklearn.feature_extraction.text import TfidfVectorizer"
   ]
  },
  {
   "cell_type": "code",
   "execution_count": 52,
   "id": "casual-distributor",
   "metadata": {},
   "outputs": [
    {
     "data": {
      "text/plain": [
       "(8807, 18895)"
      ]
     },
     "execution_count": 52,
     "metadata": {},
     "output_type": "execute_result"
    }
   ],
   "source": [
    "# 불용어 제거\n",
    "tfidf = TfidfVectorizer(stop_words='english')\n",
    "# NaN값 대체\n",
    "raw_df['description'] = raw_df['description'].fillna('')\n",
    "# TF-IDF matrix 생성\n",
    "tfidf_matrix = tfidf.fit_transform(raw_df['description'])\n",
    "tfidf_matrix.shape"
   ]
  },
  {
   "cell_type": "markdown",
   "id": "divine-disposition",
   "metadata": {},
   "source": [
    "(문서의 개수, 단어의 개수)"
   ]
  },
  {
   "cell_type": "code",
   "execution_count": 48,
   "id": "vietnamese-controversy",
   "metadata": {},
   "outputs": [
    {
     "data": {
      "text/plain": [
       "array([[0., 0., 0., ..., 0., 0., 0.],\n",
       "       [0., 0., 0., ..., 0., 0., 0.],\n",
       "       [0., 0., 0., ..., 0., 0., 0.],\n",
       "       ...,\n",
       "       [0., 0., 0., ..., 0., 0., 0.],\n",
       "       [0., 0., 0., ..., 0., 0., 0.],\n",
       "       [0., 0., 0., ..., 0., 0., 0.]])"
      ]
     },
     "execution_count": 48,
     "metadata": {},
     "output_type": "execute_result"
    }
   ],
   "source": [
    "tfidf_matrix.toarray()"
   ]
  },
  {
   "cell_type": "code",
   "execution_count": 58,
   "id": "similar-mineral",
   "metadata": {},
   "outputs": [],
   "source": [
    "from sklearn.metrics.pairwise import linear_kernel\n",
    "\n",
    "# 코사인 유사도 계산\n",
    "cosine_sim = linear_kernel(tfidf_matrix, tfidf_matrix)\n",
    "\n",
    "indices = pd.Series(raw_df.index, index=raw_df['title']).drop_duplicates()"
   ]
  },
  {
   "cell_type": "code",
   "execution_count": 59,
   "id": "addressed-dance",
   "metadata": {},
   "outputs": [
    {
     "data": {
      "text/plain": [
       "title\n",
       "Dick Johnson Is Dead        0\n",
       "Blood & Water               1\n",
       "Ganglands                   2\n",
       "Jailbirds New Orleans       3\n",
       "Kota Factory                4\n",
       "                         ... \n",
       "Zodiac                   8802\n",
       "Zombie Dumb              8803\n",
       "Zombieland               8804\n",
       "Zoom                     8805\n",
       "Zubaan                   8806\n",
       "Length: 8807, dtype: int64"
      ]
     },
     "execution_count": 59,
     "metadata": {},
     "output_type": "execute_result"
    }
   ],
   "source": [
    "indices"
   ]
  },
  {
   "cell_type": "code",
   "execution_count": 67,
   "id": "stock-damage",
   "metadata": {},
   "outputs": [],
   "source": [
    "def get_recommend(title, cosine_sim=cosine_sim):\n",
    "    idx = indices[title]\n",
    "    similar_score = list(enumerate(cosine_sim[idx]))\n",
    "    similar_score = sorted(similar_score, key=lambda x : x[1], reverse=True)\n",
    "    # 유사한 movie 5개 추출\n",
    "    similar_score = similar_score[1:5]\n",
    "    # movie index 추출\n",
    "    movie_indices = [i[0] for i in similar_score]\n",
    "    # 결과값 리턴\n",
    "    return raw_df['title'].iloc[movie_indices]"
   ]
  },
  {
   "cell_type": "code",
   "execution_count": 72,
   "id": "expanded-telephone",
   "metadata": {},
   "outputs": [
    {
     "data": {
      "text/plain": [
       "4687    Take My Brother Away\n",
       "459        Never Have I Ever\n",
       "2391                   Milea\n",
       "3547          Back to School\n",
       "Name: title, dtype: object"
      ]
     },
     "execution_count": 72,
     "metadata": {},
     "output_type": "execute_result"
    }
   ],
   "source": [
    "# 응답하라 1997과 유사한 콘텐츠 추출\n",
    "get_recommend('Reply 1997')"
   ]
  }
 ],
 "metadata": {
  "hide_input": false,
  "kernelspec": {
   "display_name": "Python 3 (ipykernel)",
   "language": "python",
   "name": "python3"
  },
  "language_info": {
   "codemirror_mode": {
    "name": "ipython",
    "version": 3
   },
   "file_extension": ".py",
   "mimetype": "text/x-python",
   "name": "python",
   "nbconvert_exporter": "python",
   "pygments_lexer": "ipython3",
   "version": "3.9.7"
  },
  "toc": {
   "base_numbering": 1,
   "nav_menu": {},
   "number_sections": true,
   "sideBar": true,
   "skip_h1_title": false,
   "title_cell": "Table of Contents",
   "title_sidebar": "Contents",
   "toc_cell": false,
   "toc_position": {},
   "toc_section_display": true,
   "toc_window_display": false
  }
 },
 "nbformat": 4,
 "nbformat_minor": 5
}
