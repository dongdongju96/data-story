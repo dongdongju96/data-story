{
 "cells": [
  {
   "cell_type": "markdown",
   "id": "2f2c89f5",
   "metadata": {},
   "source": [
    "# RIOT API 데이터 저장하기"
   ]
  },
  {
   "cell_type": "markdown",
   "id": "36627963",
   "metadata": {},
   "source": [
    "이제까지 롤 데이터를 분석하면서<p>\n",
    "매번 riot api를 호출해서 데이터분석을 진행했습니다.<p>"
   ]
  },
  {
   "cell_type": "markdown",
   "id": "24511727",
   "metadata": {},
   "source": [
    "이 때 다음의 문제가 있었습니다<p>\n",
    "1. api key를 갱신해야 한다는 점\n",
    "2. 요청 횟수가 초과 할 수도 있는 문제점"
   ]
  },
  {
   "cell_type": "markdown",
   "id": "563469c0",
   "metadata": {},
   "source": [
    "그래서 이번에는 데이터를 json 파일로 저장해서<p>\n",
    "다음부터 api호출없이 저장된 데이터를 읽어 올 수 있도록 하겠습니다."
   ]
  },
  {
   "cell_type": "markdown",
   "id": "b83e6f2c",
   "metadata": {},
   "source": [
    "----"
   ]
  },
  {
   "cell_type": "markdown",
   "id": "56f42e62",
   "metadata": {},
   "source": [
    "## .env에서 api key 가져오기"
   ]
  },
  {
   "cell_type": "markdown",
   "id": "e47a2c02",
   "metadata": {},
   "source": [
    "데이터를 저장하기 위해서는<p>\n",
    "일단, 첫 번째의 호출이 필요합니다<p>"
   ]
  },
  {
   "cell_type": "markdown",
   "id": "39e011a8",
   "metadata": {},
   "source": [
    "코어닷투데이에서는 코드보기가 가능하기 때문에<p>\n",
    "자신의 api키를 그대로 변수에 할당하고 사용한다면<p>\n",
    "불특정한 사람의 무분별한 호출로 api key가 제한 당할 수도 있습니다.<p>"
   ]
  },
  {
   "cell_type": "markdown",
   "id": "1bb37a26",
   "metadata": {},
   "source": [
    "그렇기 때문에 .env라는 숨겨진 파일에 api key를 저장해놓고 불러오는 방식을 사용하겠습니다.<p>\n",
    "~~.env 작성 하는방법을 모르시는 분들은 이 스토리를 따라해 주세요 😃 [.env 작성법](https://core.today/story/ZK04L54f)~~"
   ]
  },
  {
   "cell_type": "code",
   "execution_count": 1,
   "id": "fc98da7c",
   "metadata": {},
   "outputs": [],
   "source": [
    "import os\n",
    "from dotenv import load_dotenv"
   ]
  },
  {
   "cell_type": "markdown",
   "id": "80368b08",
   "metadata": {},
   "source": [
    "```python\n",
    "import os\n",
    "from dotenv import load_dotenv\n",
    "```"
   ]
  },
  {
   "cell_type": "markdown",
   "id": "1b614675",
   "metadata": {},
   "source": [
    "os 모듈은 공식문서를 보면 다음과 같이 나와있습니다.\n",
    "\n",
    "> '운영 체제와 상호 작용하기 위한 수십가지 함수들을 제공합니다'"
   ]
  },
  {
   "cell_type": "markdown",
   "id": "956ccdb6",
   "metadata": {},
   "source": [
    "os 모듈의 environ 함수를 사용하면 현재 파이썬 환경에서의 환경변수를 알 수 있습니다."
   ]
  },
  {
   "cell_type": "markdown",
   "id": "c9d4d121",
   "metadata": {},
   "source": [
    "```python\n",
    "os.environ\n",
    "```"
   ]
  },
  {
   "cell_type": "markdown",
   "id": "d5b69881",
   "metadata": {},
   "source": [
    "미리 .env에 riot_token키와 nickname키에<p> \n",
    "api key와 게임 닉네임을 value로 저장 했습니다.<p>"
   ]
  },
  {
   "cell_type": "markdown",
   "id": "8f57d661",
   "metadata": {},
   "source": [
    "```python\n",
    "load_dotenv()\n",
    "```"
   ]
  },
  {
   "cell_type": "markdown",
   "id": "147eafa8",
   "metadata": {},
   "source": [
    "위의 코드로 .env파일을 불러오면 다음의 결과가 뜹니다."
   ]
  },
  {
   "cell_type": "code",
   "execution_count": 6,
   "id": "024d9a50",
   "metadata": {},
   "outputs": [
    {
     "data": {
      "text/plain": [
       "True"
      ]
     },
     "execution_count": 6,
     "metadata": {},
     "output_type": "execute_result"
    }
   ],
   "source": [
    "# .env 불러오기\n",
    "load_dotenv()"
   ]
  },
  {
   "cell_type": "code",
   "execution_count": 7,
   "id": "518d4bd9",
   "metadata": {},
   "outputs": [],
   "source": [
    "# API key 및 닉네임 설정\n",
    "riot_token = os.environ['riot_token']\n",
    "nickname = os.environ['nickname']"
   ]
  },
  {
   "cell_type": "markdown",
   "id": "ac9f94ec",
   "metadata": {},
   "source": [
    "```python\n",
    "riot_token = os.environ['riot_token']\n",
    "nickname = os.environ['nickname']\n",
    "```"
   ]
  },
  {
   "cell_type": "markdown",
   "id": "301947f1",
   "metadata": {},
   "source": [
    "이제 api를 요청하도록 하겠습니다."
   ]
  },
  {
   "cell_type": "markdown",
   "id": "f27d6819",
   "metadata": {},
   "source": [
    "----"
   ]
  },
  {
   "cell_type": "markdown",
   "id": "8dfe5f03",
   "metadata": {},
   "source": [
    "## 소환사 정보 저장하기"
   ]
  },
  {
   "cell_type": "code",
   "execution_count": null,
   "id": "a76a476b",
   "metadata": {},
   "outputs": [],
   "source": [
    "import rquests\n",
    "\n",
    "# 소환사 정보 api 받기\n",
    "summoner_info_req_url = f'https://kr.api.riotgames.com/lol/summoner/v4/summoners/by-name/{nickname}?api_key={riot_token}'\n",
    "summoner_info = requests.get(summoner_info_req_url)\n",
    "\n",
    "#소환사 정보 json 저장\n",
    "with open('my_summoner_info','w') as json_file:\n",
    "    json.dump(summoner_info.json(),json_file,ensure_ascii=False) # 한글이 포함된 경우 ensure_ascii False"
   ]
  },
  {
   "cell_type": "markdown",
   "id": "c129a88c",
   "metadata": {},
   "source": [
    "```python\n",
    "import requests\n",
    "\n",
    "summoner_info_req_url = f'https://kr.api.riotgames.com/lol/summoner/v4/summoners/by-name/{nickname}?api_key={riot_token}'\n",
    "summoner_info = requests.get(summoner_info_req_url)\n",
    "```"
   ]
  },
  {
   "cell_type": "markdown",
   "id": "21b91207",
   "metadata": {},
   "source": [
    "미리 할당한 변수로 요청 url에 api를 요청합니다"
   ]
  },
  {
   "cell_type": "markdown",
   "id": "528b10d4",
   "metadata": {},
   "source": [
    "```python\n",
    "with open('저장할 파일 이름','w') as json_file:\n",
    "    json.dump(summoner_info.json(),json_file,ensure_ascii=False) # 한글이 포함된 경우 ensure_ascii False\n",
    "```"
   ]
  },
  {
   "cell_type": "markdown",
   "id": "b0dd10fa",
   "metadata": {},
   "source": [
    "my_summoner_info로 파일명을 정하고<p>\n",
    "위의 요청 결과인 summoner_info를 json 파일 형식으로 저장했습니다."
   ]
  },
  {
   "cell_type": "markdown",
   "id": "9b132d8b",
   "metadata": {},
   "source": [
    "----"
   ]
  },
  {
   "cell_type": "markdown",
   "id": "f0cf6195",
   "metadata": {},
   "source": [
    "## 매치 기록 저장하기"
   ]
  },
  {
   "cell_type": "markdown",
   "id": "c0e6f09f",
   "metadata": {},
   "source": [
    "위에서 저장한 소환사 정보로 총 100건의 매치를 불러오고 저장하겠습니다.<p>\n",
    "이번에 저장할 데이터는 match id입니다.<p>\n",
    "match id를 이용해서 상세 match 데이터 및 타임라인 데이터를 불러올 수 있습니다.<p>"
   ]
  },
  {
   "cell_type": "markdown",
   "id": "da8abc7b",
   "metadata": {},
   "source": [
    "```python\n",
    "with open('저장한 소환사 정보 경로','r') as file:\n",
    "    my_summoner_info = json.load(file)\n",
    "    \n",
    "puuid = my_summoner_info['puuid'] \n",
    "```"
   ]
  },
  {
   "cell_type": "markdown",
   "id": "5c4f8181",
   "metadata": {},
   "source": [
    "위에서 저장한 소환사 정보를 불러와서 puuid 데이터를 가져왔습니다.<p>\n",
    "puuid는 match id 를 요청할 때 입력으로 필요합니다."
   ]
  },
  {
   "cell_type": "code",
   "execution_count": null,
   "id": "876fa5a6",
   "metadata": {},
   "outputs": [],
   "source": [
    "# 변수 지정\n",
    "start = 0\n",
    "count = 100\n",
    "\n",
    "# 데이터 \n",
    "match_req_url = f'https://asia.api.riotgames.com/lol/match/v5/matches/by-puuid/{puuid}/ids?start={start}&count={count}&api_key={riot_token}'\n",
    "match_list = requests.get(match_req_url)"
   ]
  },
  {
   "cell_type": "markdown",
   "id": "a0329fc6",
   "metadata": {},
   "source": [
    "```python\n",
    "start = 0\n",
    "count = 100\n",
    "\n",
    "match_req_url = f'https://asia.api.riotgames.com/lol/match/v5/matches/by-puuid/{puuid}/ids?start={start}&count={count}&api_key={riot_token}'\n",
    "match_list = requests.get(match_req_url)\n",
    "```"
   ]
  },
  {
   "cell_type": "markdown",
   "id": "74fb9662",
   "metadata": {},
   "source": [
    "start에 0,<p>\n",
    "count에 100을 입력하고 데이터를 요청합니다.<p>\n",
    "가장 최근 게임은 0번 부터 시작하고 총 100건의 데이터를 가져온다는 의미입니다.<p>\n",
    "~~한번에 불러올 수 있는 양 100건~~"
   ]
  },
  {
   "cell_type": "code",
   "execution_count": null,
   "id": "9c8e3cb6",
   "metadata": {},
   "outputs": [],
   "source": [
    "with open('my_100match_data/my_100match_data_0421','w') as file:\n",
    "        json.dump(match_list.json(), file, ensure_ascii=False)"
   ]
  },
  {
   "cell_type": "markdown",
   "id": "22cc51c5",
   "metadata": {},
   "source": [
    "```python\n",
    "with open('저장할 파일 이름','w') as file:\n",
    "        json.dump(match_list.json(), file, ensure_ascii=False)\n",
    "```"
   ]
  },
  {
   "cell_type": "markdown",
   "id": "2a77e98a",
   "metadata": {},
   "source": [
    "이번에도 위에서 했던것 처럼 저장해줍니다."
   ]
  },
  {
   "cell_type": "markdown",
   "id": "66a39117",
   "metadata": {},
   "source": [
    "여기서 with를 쓰면 파일을 자동으로 닫아 줍니다.<p>\n",
    "    간혹 open 함수로 txt 파일이나 여러 파일을 열고 close()를 하지 않으면<p>\n",
    "        파일이 계속 열어져 있는 채로 존재하는데 이러한 것을 방지해줍니다."
   ]
  },
  {
   "cell_type": "markdown",
   "id": "31576d81",
   "metadata": {},
   "source": [
    "----"
   ]
  },
  {
   "cell_type": "markdown",
   "id": "3e231181",
   "metadata": {},
   "source": [
    "# /lol/match/v5/matches/{matchId} 데이터 저장하기"
   ]
  },
  {
   "cell_type": "markdown",
   "id": "d3ae1b55",
   "metadata": {},
   "source": [
    "해당 요청 url로 요청한 데이터는 앞으로 다음과 같이 부르겠습니다.<p>\n",
    "> match_api"
   ]
  },
  {
   "cell_type": "code",
   "execution_count": null,
   "id": "d2ca62d9",
   "metadata": {},
   "outputs": [],
   "source": [
    "with open('my_100match_data/my_100match_data_0421','r') as match_list_file:\n",
    "    match_list = json.load(match_list_file)"
   ]
  },
  {
   "cell_type": "markdown",
   "id": "564f97ae",
   "metadata": {},
   "source": [
    "```python\n",
    "with open('저장한 매치 아이디 목록 경로','r') as match_list_file:\n",
    "    match_list = json.load(match_list_file)\n",
    "```"
   ]
  },
  {
   "cell_type": "markdown",
   "id": "95b53f41",
   "metadata": {},
   "source": [
    "위에서 저장한 매치 아이디 목록을 match_list로 불러왔습니다.<p>\n",
    "이제 해당 리스트를 순회 하면서 api를 호출하겠습니다."
   ]
  },
  {
   "cell_type": "code",
   "execution_count": null,
   "id": "99b95022",
   "metadata": {},
   "outputs": [],
   "source": [
    "# match_api 요청하기\n",
    "\n",
    "requests_limit = 0\n",
    "\n",
    "for match_id in match_list:\n",
    "    \n",
    "    if requests_limit==20:\n",
    "        time.sleep(1)\n",
    "    elif requests_limit==100:\n",
    "        time.sleep(120)\n",
    "        \n",
    "    match_api_req_url = f'https://asia.api.riotgames.com/lol/match/v5/matches/{match_id}?api_key={riot_token}'\n",
    "    match_api = requests.get(match_api_req_url)\n",
    "    \n",
    "    requests_limit += 1\n",
    "    \n",
    "    # match_api 저장\n",
    "    with open(f'match_api/{match_id}','w') as match_api_file:\n",
    "        json.dump(match_api.json(), match_api_file, ensure_ascii=False)\n",
    "\n",
    "if requests_limit==100:\n",
    "    time.sleep(120)"
   ]
  },
  {
   "cell_type": "markdown",
   "id": "98b11275",
   "metadata": {},
   "source": [
    "```python \n",
    "# 호출 횟수 제한 \n",
    "requests_limit = 0\n",
    "\n",
    "# 리스트 순회하면서 api 호출\n",
    "for match_id in match_list:\n",
    "    \n",
    "    # 1초에 최대 20회\n",
    "    if requests_limit==20:\n",
    "        time.sleep(1)\n",
    "    # 2분에 최대 100회\n",
    "    elif requests_limit==100:\n",
    "        time.sleep(120)\n",
    "        \n",
    "    # api 요청    \n",
    "    match_api_req_url = f'https://asia.api.riotgames.com/lol/match/v5/matches/{match_id}?api_key={riot_token}'\n",
    "    match_api = requests.get(match_api_req_url)\n",
    "    \n",
    "    # 호출 횟수 증가 \n",
    "    requests_limit += 1\n",
    "    \n",
    "    # match_api 저장\n",
    "    with open(f'저장할 파일 이름','w') as match_api_file:\n",
    "        json.dump(match_api.json(), match_api_file, ensure_ascii=False)\n",
    "        \n",
    "if requests_limit==100:\n",
    "    time.sleep(120)\n",
    "    \n",
    "```"
   ]
  },
  {
   "attachments": {
    "image.png": {
     "image/png": "[encoded data removed]"
    }
   },
   "cell_type": "markdown",
   "id": "e37b4980",
   "metadata": {},
   "source": [
    "![image.png](attachment:image.png)"
   ]
  },
  {
   "cell_type": "markdown",
   "id": "5e417491",
   "metadata": {},
   "source": [
    "riot api에는 호출 횟수 제한이 있습니다.<p>\n",
    "\n",
    "이 제한을 초과하지 않는것이 좋습니다."
   ]
  },
  {
   "cell_type": "markdown",
   "id": "33de96b8",
   "metadata": {},
   "source": [
    "> ~~호출 횟수를 초과하고 몇일 동안 api block 당한적이 있습니다...~~"
   ]
  },
  {
   "cell_type": "markdown",
   "id": "9fbe7a9c",
   "metadata": {},
   "source": [
    "그래서 위에 if문을 사용해서 실수로 제한을 초과하지 않도록 넣어줬습니다.<p>\n",
    "마지막 부분도 jupyter notebook을 한번에 실행하면 바로 다음 호출을 할 수도 있어서<p>\n",
    "2분동안 기다리라는 명령입니다."
   ]
  },
  {
   "cell_type": "markdown",
   "id": "02073f56",
   "metadata": {},
   "source": [
    "----"
   ]
  },
  {
   "cell_type": "markdown",
   "id": "e0b595bf",
   "metadata": {},
   "source": [
    "# /lol/match/v5/matches/{matchId}/timeline 데이터 저장하기"
   ]
  },
  {
   "cell_type": "markdown",
   "id": "2e1269ba",
   "metadata": {},
   "source": [
    "해당 요청 url로 요청한 데이터는 앞으로 다음과 같이 부르겠습니다.<p>\n",
    "> match_timeline_api"
   ]
  },
  {
   "cell_type": "code",
   "execution_count": null,
   "id": "e22749db",
   "metadata": {},
   "outputs": [],
   "source": [
    "# match_timeline_api 요청하기\n",
    "\n",
    "requests_limit = 0\n",
    "\n",
    "for match_id in match_list:\n",
    "    \n",
    "    if requests_limit==20:\n",
    "        time.sleep(1)\n",
    "    elif requests_limit==100:\n",
    "        time.sleep(120)\n",
    "        \n",
    "    match_timeline_api_req_url = f'https://asia.api.riotgames.com/lol/match/v5/matches/{match_id}/timeline?api_key={riot_token}'\n",
    "    match_timeline_api = requests.get(match_api_req_url)\n",
    "    \n",
    "    requests_limit += 1\n",
    "    \n",
    "    # match_api 저장\n",
    "    with open(f'match_timeline_api/{match_id}','w') as match_timeline_api_file:\n",
    "        json.dump(match_timeline_api.json(), match_timeline_api_file, ensure_ascii=False)\n",
    "\n",
    "if requests_limit==100:\n",
    "    time.sleep(120)"
   ]
  },
  {
   "cell_type": "markdown",
   "id": "4c1d5e81",
   "metadata": {},
   "source": [
    "```python\n",
    "# match_timeline_api 요청하기\n",
    "\n",
    "requests_limit = 0\n",
    "\n",
    "for match_id in match_list:\n",
    "    \n",
    "    if requests_limit==20:\n",
    "        time.sleep(1)\n",
    "    elif requests_limit==100:\n",
    "        time.sleep(120)\n",
    "        \n",
    "    match_timeline_api_req_url = f'https://asia.api.riotgames.com/lol/match/v5/matches/{match_id}/timeline?api_key={riot_token}'\n",
    "    match_timeline_api = requests.get(match_api_req_url)\n",
    "    \n",
    "    requests_limit += 1\n",
    "    \n",
    "    # match_api 저장\n",
    "    with open(f'저장할 파일 이름','w') as match_timeline_api_file:\n",
    "        json.dump(match_timeline_api.json(), match_timeline_api_file, ensure_ascii=False)\n",
    "\n",
    "if requests_limit==100:\n",
    "    time.sleep(120)\n",
    "```"
   ]
  },
  {
   "cell_type": "markdown",
   "id": "8fede933",
   "metadata": {},
   "source": [
    "match_appi를 했을 때와 마찬가지로 해주시면 됩니다.<p>\n",
    "\n",
    "이제 op.gg같은 롤 분석 사이트처럼 데이터를 쌓아갈 수 있습니다!<p>\n",
    "\n",
    "또 매번 호출 횟수를 초과할까 조마조마 하지 않으며 데이터를 사용할 수 있습니다!<p><br>   \n",
    "   \n",
    "질문이나 피드백 환영입니다 :)<p>\n",
    "읽어주셔서 감사합니다."
   ]
  }
 ],
 "metadata": {
  "hide_input": false,
  "kernelspec": {
   "display_name": "datastory",
   "language": "python",
   "name": "datastory"
  },
  "language_info": {
   "codemirror_mode": {
    "name": "ipython",
    "version": 3
   },
   "file_extension": ".py",
   "mimetype": "text/x-python",
   "name": "python",
   "nbconvert_exporter": "python",
   "pygments_lexer": "ipython3",
   "version": "3.9.7"
  }
 },
 "nbformat": 4,
 "nbformat_minor": 5
}
